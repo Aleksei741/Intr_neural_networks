{
  "nbformat": 4,
  "nbformat_minor": 0,
  "metadata": {
    "colab": {
      "name": "HW.ipynb",
      "provenance": [],
      "collapsed_sections": []
    },
    "kernelspec": {
      "display_name": "Python 3",
      "language": "python",
      "name": "python3"
    },
    "language_info": {
      "codemirror_mode": {
        "name": "ipython",
        "version": 3
      },
      "file_extension": ".py",
      "mimetype": "text/x-python",
      "name": "python",
      "nbconvert_exporter": "python",
      "pygments_lexer": "ipython3",
      "version": "3.8.3"
    }
  },
  "cells": [
    {
      "cell_type": "code",
      "metadata": {
        "colab_type": "code",
        "id": "XOCTd8d3v-59",
        "colab": {}
      },
      "source": [
        "import numpy as np\n",
        "#import mnist\n",
        "import keras\n",
        "from keras.datasets import fashion_mnist"
      ],
      "execution_count": 2,
      "outputs": []
    },
    {
      "cell_type": "code",
      "metadata": {
        "colab_type": "code",
        "id": "7R7P5UquwRK4",
        "colab": {}
      },
      "source": [
        "(train_images,train_labels),(test_images,test_labels)=fashion_mnist.load_data()"
      ],
      "execution_count": 3,
      "outputs": []
    },
    {
      "cell_type": "code",
      "metadata": {
        "colab_type": "code",
        "id": "OK5ebvcDwXZv",
        "colab": {}
      },
      "source": [
        "# Normalize the images.\n",
        "train_images = (train_images / 255) - 0.5\n",
        "test_images = (test_images / 255) - 0.5"
      ],
      "execution_count": 4,
      "outputs": []
    },
    {
      "cell_type": "code",
      "metadata": {
        "colab_type": "code",
        "id": "wSSHoMRlwiU7",
        "colab": {
          "base_uri": "https://localhost:8080/",
          "height": 54
        },
        "outputId": "bcae68a2-bcb7-45da-f13a-3f2f3b2ffd41"
      },
      "source": [
        "print(train_images.shape) # (60000, 28, 28)\n",
        "print(test_images.shape)  # (10000, 28, 28)"
      ],
      "execution_count": 5,
      "outputs": [
        {
          "output_type": "stream",
          "text": [
            "(60000, 28, 28)\n",
            "(10000, 28, 28)\n"
          ],
          "name": "stdout"
        }
      ]
    },
    {
      "cell_type": "code",
      "metadata": {
        "colab_type": "code",
        "id": "rz52NEUJwlDM",
        "colab": {
          "base_uri": "https://localhost:8080/",
          "height": 54
        },
        "outputId": "b3a51360-a174-4719-b6d8-edb3fcd8b192"
      },
      "source": [
        "# Flatten the images.\n",
        "train_images = train_images.reshape((-1, train_images.shape[1] * train_images.shape[2]))\n",
        "test_images = test_images.reshape((-1, test_images.shape[1] * test_images.shape[2]))\n",
        "\n",
        "print(train_images.shape) # (60000, 784)\n",
        "print(test_images.shape)  # (10000, 784)"
      ],
      "execution_count": 6,
      "outputs": [
        {
          "output_type": "stream",
          "text": [
            "(60000, 784)\n",
            "(10000, 784)\n"
          ],
          "name": "stdout"
        }
      ]
    },
    {
      "cell_type": "code",
      "metadata": {
        "colab_type": "code",
        "id": "UiBHEdUxyce5",
        "colab": {
          "base_uri": "https://localhost:8080/",
          "height": 35
        },
        "outputId": "a53cb827-27f8-4f75-f451-7a8e4e0d5b00"
      },
      "source": [
        "np.unique(train_labels)"
      ],
      "execution_count": 7,
      "outputs": [
        {
          "output_type": "execute_result",
          "data": {
            "text/plain": [
              "array([0, 1, 2, 3, 4, 5, 6, 7, 8, 9], dtype=uint8)"
            ]
          },
          "metadata": {
            "tags": []
          },
          "execution_count": 7
        }
      ]
    },
    {
      "cell_type": "code",
      "metadata": {
        "colab_type": "code",
        "id": "xjMUeMStxt0S",
        "colab": {}
      },
      "source": [
        "from keras.models import Sequential\n",
        "from keras.layers import Dense \n",
        "from keras.utils import to_categorical\n",
        "from keras.datasets import mnist"
      ],
      "execution_count": 8,
      "outputs": []
    },
    {
      "cell_type": "code",
      "metadata": {
        "colab_type": "code",
        "id": "T6thLzUxx8-I",
        "colab": {}
      },
      "source": [
        "model = Sequential()\n",
        "model.add(Dense(64, input_shape=(784,), activation='relu'))\n",
        "model.add(Dense(64, activation='relu'))\n",
        "model.add(Dense(10, activation='sigmoid'))"
      ],
      "execution_count": 9,
      "outputs": []
    },
    {
      "cell_type": "code",
      "metadata": {
        "colab_type": "code",
        "id": "D-s2oUcRzRsl",
        "colab": {}
      },
      "source": [
        "# Compile the model.\n",
        "model.compile(\n",
        "  optimizer='adam',\n",
        "  loss='categorical_crossentropy',\n",
        "  metrics='accuracy',\n",
        ")"
      ],
      "execution_count": 10,
      "outputs": []
    },
    {
      "cell_type": "code",
      "metadata": {
        "colab_type": "code",
        "id": "Dub7Ws3OzXRq",
        "colab": {
          "base_uri": "https://localhost:8080/",
          "height": 274
        },
        "outputId": "d04a6ba8-d4f0-4f73-e8db-6b71add034ba"
      },
      "source": [
        "model.summary()"
      ],
      "execution_count": 11,
      "outputs": [
        {
          "output_type": "stream",
          "text": [
            "Model: \"sequential\"\n",
            "_________________________________________________________________\n",
            "Layer (type)                 Output Shape              Param #   \n",
            "=================================================================\n",
            "dense (Dense)                (None, 64)                50240     \n",
            "_________________________________________________________________\n",
            "dense_1 (Dense)              (None, 64)                4160      \n",
            "_________________________________________________________________\n",
            "dense_2 (Dense)              (None, 10)                650       \n",
            "=================================================================\n",
            "Total params: 55,050\n",
            "Trainable params: 55,050\n",
            "Non-trainable params: 0\n",
            "_________________________________________________________________\n"
          ],
          "name": "stdout"
        }
      ]
    },
    {
      "cell_type": "code",
      "metadata": {
        "colab_type": "code",
        "id": "6Uf5WE6-zZDi",
        "colab": {
          "base_uri": "https://localhost:8080/",
          "height": 164
        },
        "outputId": "bdcd1e8a-0752-455c-c402-af7f05d1de87"
      },
      "source": [
        "# Train the model.\n",
        "met = model.fit(\n",
        "  train_images,\n",
        "  to_categorical(train_labels),\n",
        "  epochs=2,\n",
        "  batch_size=200,\n",
        ")\n",
        "\n",
        "print(met)\n",
        "\n",
        "# Evaluate the model.\n",
        "model.evaluate(\n",
        "  test_images,\n",
        "  to_categorical(test_labels)\n",
        ")\n",
        "\n",
        "# Predict on the first 5 test images.\n",
        "predictions = model.predict(test_images)\n",
        "\n",
        "# Print our model's predictions.\n",
        "print(np.argmax(predictions, axis=1)[:10]) # [7, 2, 1, 0, 4]\n",
        "\n",
        "# Check our predictions against the ground truths.\n",
        "print(test_labels[:10]) # [7, 2, 1, 0, 4]"
      ],
      "execution_count": 12,
      "outputs": [
        {
          "output_type": "stream",
          "text": [
            "Epoch 1/2\n",
            "300/300 [==============================] - 1s 3ms/step - loss: 0.6720 - accuracy: 0.7570\n",
            "Epoch 2/2\n",
            "300/300 [==============================] - 1s 3ms/step - loss: 0.4214 - accuracy: 0.8492\n",
            "<tensorflow.python.keras.callbacks.History object at 0x7f09038fdeb8>\n",
            "313/313 [==============================] - 0s 1ms/step - loss: 0.4462 - accuracy: 0.8318\n",
            "[9 2 1 1 6 1 4 6 5 7]\n",
            "[9 2 1 1 6 1 4 6 5 7]\n"
          ],
          "name": "stdout"
        }
      ]
    },
    {
      "cell_type": "code",
      "metadata": {
        "colab_type": "code",
        "id": "A94Kdl7lzo-G",
        "colab": {
          "base_uri": "https://localhost:8080/",
          "height": 35
        },
        "outputId": "4f1f40bb-0883-4e69-e4ed-e97c3fd3a8dd"
      },
      "source": [
        "met = model.evaluate(\n",
        "  test_images,\n",
        "  to_categorical(test_labels)\n",
        ")"
      ],
      "execution_count": 13,
      "outputs": [
        {
          "output_type": "stream",
          "text": [
            "313/313 [==============================] - 0s 969us/step - loss: 0.4462 - accuracy: 0.8318\n"
          ],
          "name": "stdout"
        }
      ]
    },
    {
      "cell_type": "code",
      "metadata": {
        "id": "Dn6rAZ1iTSr5",
        "colab_type": "code",
        "colab": {
          "base_uri": "https://localhost:8080/",
          "height": 35
        },
        "outputId": "b20ec9ad-6243-4999-ba0e-c644bd7aea6e"
      },
      "source": [
        "met"
      ],
      "execution_count": 14,
      "outputs": [
        {
          "output_type": "execute_result",
          "data": {
            "text/plain": [
              "[0.44624078273773193, 0.8317999839782715]"
            ]
          },
          "metadata": {
            "tags": []
          },
          "execution_count": 14
        }
      ]
    },
    {
      "cell_type": "code",
      "metadata": {
        "id": "bmQPVfYtUJKm",
        "colab_type": "code",
        "colab": {}
      },
      "source": [
        "activation_functions = ['relu', 'elu', 'tanh', 'sigmoid', 'exponential', 'linear']\n",
        "num_layers = [1, 2, 3]\n",
        "num_neuron = [20, 30, 50, 70, 100]\n",
        "learning_rates = [0.1, 0.01, 0.001, 'adam']\n",
        "epoch = [2, 5, 10, 20]\n",
        "batch_size = [5, 20, 30, 60, 100, 200, 500]"
      ],
      "execution_count": 40,
      "outputs": []
    },
    {
      "cell_type": "code",
      "metadata": {
        "id": "UpebOORyV2zw",
        "colab_type": "code",
        "colab": {}
      },
      "source": [
        "def model_init(model, num_layers, num_neuron, func, lr):\n",
        "  #model = Sequential()\n",
        "  \n",
        "  if lr != 'adam':\n",
        "    opt = keras.optimizers.Adam(learning_rate=lr)\n",
        "  else:\n",
        "    opt = 'adam'\n",
        "\n",
        "  model.add(Dense(num_layers, input_shape=(784,), activation=func))\n",
        "\n",
        "  for i in range(num_layers):\n",
        "    model.add(Dense(num_neuron, activation=func))\n",
        "\n",
        "  model.add(Dense(10, activation='sigmoid'))\n",
        "\n",
        "  # Compile the model.\n",
        "  model.compile(\n",
        "    #optimizer='adam',\n",
        "    optimizer=opt,\n",
        "    loss='categorical_crossentropy',\n",
        "    metrics='accuracy',\n",
        "  )\n",
        "\n",
        "\n",
        "\n",
        "def model_fit(model, epochs, batch_size): \n",
        "  # Train the model.\n",
        "  model.fit(\n",
        "    train_images,\n",
        "    to_categorical(train_labels),\n",
        "    epochs=epochs,\n",
        "    batch_size=batch_size,\n",
        "  )\n",
        "\n",
        "  # Evaluate the model.\n",
        "  metric = model.evaluate(\n",
        "    train_images,\n",
        "    to_categorical(train_labels)\n",
        "  )\n",
        "\n",
        "  return metric"
      ],
      "execution_count": 41,
      "outputs": []
    },
    {
      "cell_type": "code",
      "metadata": {
        "id": "vHAe80PqY8Ng",
        "colab_type": "code",
        "colab": {}
      },
      "source": [
        "%%time\n",
        "\n",
        "repeat = 5\n",
        "result = list()\n",
        "\n",
        "\n",
        "for af in activation_functions:\n",
        "  for nl in num_layers:\n",
        "    for nn in num_neuron:\n",
        "      for lr in learning_rates:\n",
        "        for e in epoch:\n",
        "          for bs in batch_size:\n",
        "            result_dict = dict()\n",
        "            result_dict['learning_rate'] = lr\n",
        "            result_dict['activation_function'] = af\n",
        "            result_dict['num_layer'] = nl\n",
        "            result_dict['num_neuron'] = nn\n",
        "            result_dict['epochs'] = e\n",
        "            result_dict['batch_size'] = bs\n",
        "            list_accuracy = list()\n",
        "            list_loss = list()\n",
        "            print(f'activation_function:{af}, num_layer:{nl}, epochs:{e}, batch_size:{bs}, learning_rates:{lr}')\n",
        "            for r in range(repeat):  \n",
        "              if r > 0 and list_accuracy[-1] < 0.8:\n",
        "                break\n",
        "              model = Sequential()\n",
        "              model_init(model, nl, nn, af, lr)\n",
        "              buf = model_fit(model, e, bs)\n",
        "              list_accuracy.append(buf[1])\n",
        "              list_loss.append(buf[0])\n",
        "            \n",
        "            result_dict['accuracy'] = np.array(list_accuracy).mean()\n",
        "            result_dict['loss'] = np.array(list_loss).mean()\n",
        "\n",
        "            result_dict['accuracy_list'] = list_accuracy\n",
        "            result_dict['loss_list'] = list_loss\n",
        "\n",
        "            result.append(result_dict)"
      ],
      "execution_count": null,
      "outputs": []
    },
    {
      "cell_type": "code",
      "metadata": {
        "id": "UUXymaRn57of",
        "colab_type": "code",
        "colab": {}
      },
      "source": [
        "#Это оказалось долго и не информативно\n",
        "#Пойдем по кускам"
      ],
      "execution_count": 31,
      "outputs": []
    },
    {
      "cell_type": "code",
      "metadata": {
        "id": "VvHFEnaG-9U9",
        "colab_type": "code",
        "colab": {}
      },
      "source": [
        "def fit_for_parameters(result, af, lr, nl, nn, e, bs, repeat=10):\n",
        "  result_dict = dict()\n",
        "  result_dict['activation_function'] = af\n",
        "  result_dict['learning_rate'] = lr  \n",
        "  result_dict['num_layer'] = nl\n",
        "  result_dict['num_neuron'] = nn\n",
        "  result_dict['epochs'] = e\n",
        "  result_dict['batch_size'] = bs\n",
        "  list_accuracy = list()\n",
        "  list_loss = list()\n",
        "  print(f'activation_function:{af}, num_layer:{nl}, epochs:{e}, batch_size:{bs}, learning_rates:{lr}, num_neuron:{nn}')\n",
        "  for r in range(repeat):  \n",
        "    #if r > 0 and list_accuracy[-1] < 0.5:\n",
        "      #break\n",
        "    model = Sequential()\n",
        "    model_init(model, nl, nn, af, lr)\n",
        "    buf = model_fit(model, e, bs)\n",
        "    list_accuracy.append(buf[1])\n",
        "    list_loss.append(buf[0])\n",
        "  \n",
        "  result_dict['accuracy'] = np.array(list_accuracy).mean()\n",
        "  result_dict['loss'] = np.array(list_loss).mean()\n",
        "\n",
        "  result_dict['accuracy_list'] = list_accuracy\n",
        "  result_dict['loss_list'] = list_loss\n",
        "\n",
        "  result.append(result_dict)\n",
        "\n",
        "def best_search(result, parameter):\n",
        "  accuracy__ = 0;\n",
        "\n",
        "  for i in range(len(result)):\n",
        "    print(result[i][parameter], ':', result[i]['accuracy'])\n",
        "    \n",
        "    if result[i]['accuracy'] > accuracy__:\n",
        "      accuracy__ = result[i]['accuracy']\n",
        "      i_best = i\n",
        "\n",
        "  print()\n",
        "  print('best: ', end=' ')\n",
        "  print(result[i_best][parameter])"
      ],
      "execution_count": 55,
      "outputs": []
    },
    {
      "cell_type": "code",
      "metadata": {
        "id": "ZsqldppU4rGB",
        "colab_type": "code",
        "colab": {}
      },
      "source": [
        "#ВЫберем активационную функцию\n",
        "%%time\n",
        "\n",
        "result = list()\n",
        "\n",
        "lr = 0.001\n",
        "nl = 1\n",
        "nn = 64\n",
        "e = 5\n",
        "bs = 200\n",
        "\n",
        "for af in activation_functions:\n",
        "  fit_for_parameters(result, af, lr, nl, nn, e, bs)  "
      ],
      "execution_count": null,
      "outputs": []
    },
    {
      "cell_type": "code",
      "metadata": {
        "id": "Kd7NFexD9Pre",
        "colab_type": "code",
        "colab": {
          "base_uri": "https://localhost:8080/",
          "height": 164
        },
        "outputId": "7a8d9a3a-7fdf-4f8b-94fa-4e6a82684400"
      },
      "source": [
        "best_search(result, 'activation_function')\n"
      ],
      "execution_count": 56,
      "outputs": [
        {
          "output_type": "stream",
          "text": [
            "relu : 0.371668329834938\n",
            "elu : 0.2625933334231377\n",
            "tanh : 0.26429333388805387\n",
            "sigmoid : 0.25866000205278394\n",
            "exponential : 0.18986667022109033\n",
            "linear : 0.3025616675615311\n",
            "\n",
            "best:  relu\n"
          ],
          "name": "stdout"
        }
      ]
    },
    {
      "cell_type": "code",
      "metadata": {
        "id": "p8-gcvTB6AwC",
        "colab_type": "code",
        "colab": {}
      },
      "source": [
        "#Лучшая релу, берем еЁ.\n",
        "#Поиск скорости обучения \n",
        "%%time\n",
        "\n",
        "result = list()\n",
        "\n",
        "af='relu'\n",
        "lr = 0.001\n",
        "nl = 1\n",
        "nn = 64\n",
        "e = 5\n",
        "bs = 200\n",
        "\n",
        "for lr in learning_rates:\n",
        "  fit_for_parameters(result, af, lr, nl, nn, e, bs) "
      ],
      "execution_count": null,
      "outputs": []
    },
    {
      "cell_type": "code",
      "metadata": {
        "id": "nFXU96VT6Xae",
        "colab_type": "code",
        "colab": {
          "base_uri": "https://localhost:8080/",
          "height": 127
        },
        "outputId": "c31319de-960c-481a-9047-6753a499fc6e"
      },
      "source": [
        "best_search(result, 'learning_rate')"
      ],
      "execution_count": 58,
      "outputs": [
        {
          "output_type": "stream",
          "text": [
            "0.1 : 0.170021665841341\n",
            "0.01 : 0.43616833388805387\n",
            "0.001 : 0.3099966675043106\n",
            "adam : 0.3343383356928825\n",
            "\n",
            "best:  0.01\n"
          ],
          "name": "stdout"
        }
      ]
    },
    {
      "cell_type": "code",
      "metadata": {
        "id": "eSMjFTJHCm1-",
        "colab_type": "code",
        "colab": {}
      },
      "source": [
        "#Странно, что даже с оптимизатором результат хуже, чем с фиксированной скоростью обучения, но ладно берем ее. Хотя есть вариант, что при 0.001 она не успевала до обучиться."
      ],
      "execution_count": 59,
      "outputs": []
    },
    {
      "cell_type": "code",
      "metadata": {
        "id": "qkcM5W75C8wJ",
        "colab_type": "code",
        "colab": {}
      },
      "source": [
        "#Подберем количество слоев, помимо входного и выходного\n",
        "#Лучшая релу, берем еЁ.\n",
        "#Поиск скорости обучения \n",
        "%%time\n",
        "\n",
        "result = list()\n",
        "\n",
        "af='relu'\n",
        "lr = 0.01\n",
        "nl = 1\n",
        "nn = 64\n",
        "e = 5\n",
        "bs = 200\n",
        "\n",
        "for nl in num_layers:\n",
        "  fit_for_parameters(result, af, lr, nl, nn, e, bs) "
      ],
      "execution_count": null,
      "outputs": []
    },
    {
      "cell_type": "code",
      "metadata": {
        "id": "LS5i91kODejq",
        "colab_type": "code",
        "colab": {
          "base_uri": "https://localhost:8080/",
          "height": 109
        },
        "outputId": "cf9587f3-c4d4-4a10-80b0-d59d6757e3fd"
      },
      "source": [
        "best_search(result, 'num_layer')"
      ],
      "execution_count": 61,
      "outputs": [
        {
          "output_type": "stream",
          "text": [
            "1 : 0.40863500311970713\n",
            "2 : 0.7114233314990998\n",
            "3 : 0.7765216708183289\n",
            "\n",
            "best:  3\n"
          ],
          "name": "stdout"
        }
      ]
    },
    {
      "cell_type": "code",
      "metadata": {
        "id": "s7IqmvH7EPi3",
        "colab_type": "code",
        "colab": {}
      },
      "source": [
        "#Лучший результат с 3 внутр. слоями"
      ],
      "execution_count": 62,
      "outputs": []
    },
    {
      "cell_type": "code",
      "metadata": {
        "id": "8JndJEeyEZcM",
        "colab_type": "code",
        "colab": {}
      },
      "source": [
        "#Подберем кол-во нейронов в слое\n",
        "%%time\n",
        "\n",
        "result = list()\n",
        "\n",
        "af='relu'\n",
        "lr = 0.01\n",
        "nl = 3\n",
        "nn = 64\n",
        "e = 5\n",
        "bs = 200\n",
        "\n",
        "for nn in num_neuron:\n",
        "  fit_for_parameters(result, af, lr, nl, nn, e, bs) "
      ],
      "execution_count": null,
      "outputs": []
    },
    {
      "cell_type": "code",
      "metadata": {
        "id": "a9MAgG-sEmFR",
        "colab_type": "code",
        "colab": {
          "base_uri": "https://localhost:8080/",
          "height": 146
        },
        "outputId": "04a39282-636e-45f3-da69-dd31c1097f9f"
      },
      "source": [
        "best_search(result, 'num_neuron')"
      ],
      "execution_count": 65,
      "outputs": [
        {
          "output_type": "stream",
          "text": [
            "20 : 0.7880733430385589\n",
            "30 : 0.7653849959373474\n",
            "50 : 0.7731266677379608\n",
            "70 : 0.7026816695928574\n",
            "100 : 0.7426766753196716\n",
            "\n",
            "best:  20\n"
          ],
          "name": "stdout"
        }
      ]
    },
    {
      "cell_type": "code",
      "metadata": {
        "id": "ayEogCX5GHpV",
        "colab_type": "code",
        "colab": {}
      },
      "source": [
        "#Лидирует 20 нейронов. Сложно сделать вывод просто возьму 20 нейронов."
      ],
      "execution_count": 66,
      "outputs": []
    },
    {
      "cell_type": "code",
      "metadata": {
        "id": "YtavNXE_HjOb",
        "colab_type": "code",
        "colab": {}
      },
      "source": [
        "#Подберем кол-во эпох\n",
        "%%time\n",
        "\n",
        "result = list()\n",
        "\n",
        "af='relu'\n",
        "lr = 0.01\n",
        "nl = 3\n",
        "nn = 20\n",
        "e = 5\n",
        "bs = 200\n",
        "\n",
        "for e in epoch:\n",
        "  fit_for_parameters(result, af, lr, nl, nn, e, bs) "
      ],
      "execution_count": null,
      "outputs": []
    },
    {
      "cell_type": "code",
      "metadata": {
        "id": "dSx8WW74H8bv",
        "colab_type": "code",
        "colab": {
          "base_uri": "https://localhost:8080/",
          "height": 127
        },
        "outputId": "eb77c716-a272-4cb2-85c9-c6f099da4bd6"
      },
      "source": [
        "best_search(result, 'epochs')"
      ],
      "execution_count": 68,
      "outputs": [
        {
          "output_type": "stream",
          "text": [
            "2 : 0.6851583316922187\n",
            "5 : 0.7400266647338867\n",
            "10 : 0.7877966642379761\n",
            "20 : 0.7945316672325134\n",
            "\n",
            "best:  20\n"
          ],
          "name": "stdout"
        }
      ]
    },
    {
      "cell_type": "code",
      "metadata": {
        "id": "kNr341hZJVPs",
        "colab_type": "code",
        "colab": {}
      },
      "source": [
        "#Результат логичен, поскольку кол-во эпох это количество проходов по нашей тренировочной выборке, то с увеличением кол-ва проходов модель сильнее обучается тренировочной выборке, при этом мы не контролируем результат тестовой выборки. Не будем брать 20, но возьмем 10.\n"
      ],
      "execution_count": 69,
      "outputs": []
    },
    {
      "cell_type": "code",
      "metadata": {
        "id": "2ivdNdWWJvDw",
        "colab_type": "code",
        "colab": {}
      },
      "source": [
        "#Подберем данных, после обработки которых меняем веса\n",
        "%%time\n",
        "\n",
        "result = list()\n",
        "\n",
        "af='relu'\n",
        "lr = 0.01\n",
        "nl = 3\n",
        "nn = 20\n",
        "e = 10\n",
        "bs = 200\n",
        "\n",
        "for bs in batch_size:\n",
        "  fit_for_parameters(result, af, lr, nl, nn, e, bs, repeat=3) "
      ],
      "execution_count": null,
      "outputs": []
    },
    {
      "cell_type": "code",
      "metadata": {
        "id": "7l3Rn1mwKFIz",
        "colab_type": "code",
        "colab": {
          "base_uri": "https://localhost:8080/",
          "height": 164
        },
        "outputId": "ac1a7cac-a9a0-4ecf-b801-d31449187a80"
      },
      "source": [
        "best_search(result, 'batch_size')"
      ],
      "execution_count": 74,
      "outputs": [
        {
          "output_type": "stream",
          "text": [
            "5 : 0.5757111112276713\n",
            "20 : 0.7276888887087504\n",
            "30 : 0.7800944447517395\n",
            "60 : 0.7791222135225931\n",
            "100 : 0.7919833262761434\n",
            "200 : 0.7699388861656189\n",
            "\n",
            "best:  100\n"
          ],
          "name": "stdout"
        }
      ]
    },
    {
      "cell_type": "code",
      "metadata": {
        "id": "26KWMc7IL2xB",
        "colab_type": "code",
        "colab": {
          "base_uri": "https://localhost:8080/",
          "height": 1000
        },
        "outputId": "3da6bab0-1931-49e9-f96f-4de6e4048552"
      },
      "source": [
        "%%time\n",
        "\n",
        "result = list()\n",
        "\n",
        "af='relu'\n",
        "lr = 0.01\n",
        "nl = 3\n",
        "nn = 20\n",
        "e = 10\n",
        "bs = 100\n",
        "\n",
        "fit_for_parameters(result, af, lr, nl, nn, e, bs, repeat=5) "
      ],
      "execution_count": 85,
      "outputs": [
        {
          "output_type": "stream",
          "text": [
            "activation_function:relu, num_layer:3, epochs:10, batch_size:100, learning_rates:0.01, num_neuron:20\n",
            "Epoch 1/10\n",
            "600/600 [==============================] - 1s 2ms/step - loss: 0.8362 - accuracy: 0.6747\n",
            "Epoch 2/10\n",
            "600/600 [==============================] - 1s 2ms/step - loss: 0.6435 - accuracy: 0.7700\n",
            "Epoch 3/10\n",
            "600/600 [==============================] - 1s 2ms/step - loss: 0.6053 - accuracy: 0.7871\n",
            "Epoch 4/10\n",
            "600/600 [==============================] - 1s 2ms/step - loss: 0.5988 - accuracy: 0.7876\n",
            "Epoch 5/10\n",
            "600/600 [==============================] - 1s 2ms/step - loss: 0.5874 - accuracy: 0.7944\n",
            "Epoch 6/10\n",
            "600/600 [==============================] - 1s 2ms/step - loss: 0.5802 - accuracy: 0.7951\n",
            "Epoch 7/10\n",
            "600/600 [==============================] - 1s 2ms/step - loss: 0.5736 - accuracy: 0.7984\n",
            "Epoch 8/10\n",
            "600/600 [==============================] - 1s 2ms/step - loss: 0.5655 - accuracy: 0.8001\n",
            "Epoch 9/10\n",
            "600/600 [==============================] - 1s 2ms/step - loss: 0.5664 - accuracy: 0.7997\n",
            "Epoch 10/10\n",
            "600/600 [==============================] - 1s 2ms/step - loss: 0.5589 - accuracy: 0.8044\n",
            "1875/1875 [==============================] - 2s 913us/step - loss: 0.5550 - accuracy: 0.8082\n",
            "Epoch 1/10\n",
            "600/600 [==============================] - 1s 2ms/step - loss: 1.0456 - accuracy: 0.4943\n",
            "Epoch 2/10\n",
            "600/600 [==============================] - 1s 2ms/step - loss: 0.8607 - accuracy: 0.5700\n",
            "Epoch 3/10\n",
            "600/600 [==============================] - 1s 2ms/step - loss: 0.7723 - accuracy: 0.6691\n",
            "Epoch 4/10\n",
            "600/600 [==============================] - 1s 2ms/step - loss: 0.7126 - accuracy: 0.7301\n",
            "Epoch 5/10\n",
            "600/600 [==============================] - 1s 2ms/step - loss: 0.7042 - accuracy: 0.7318\n",
            "Epoch 6/10\n",
            "600/600 [==============================] - 1s 2ms/step - loss: 0.7010 - accuracy: 0.7355\n",
            "Epoch 7/10\n",
            "600/600 [==============================] - 1s 2ms/step - loss: 0.6897 - accuracy: 0.7406\n",
            "Epoch 8/10\n",
            "600/600 [==============================] - 1s 2ms/step - loss: 0.6916 - accuracy: 0.7392\n",
            "Epoch 9/10\n",
            "600/600 [==============================] - 1s 2ms/step - loss: 0.6888 - accuracy: 0.7394\n",
            "Epoch 10/10\n",
            "600/600 [==============================] - 1s 2ms/step - loss: 0.6876 - accuracy: 0.7419\n",
            "1875/1875 [==============================] - 2s 900us/step - loss: 0.6941 - accuracy: 0.7387\n",
            "Epoch 1/10\n",
            "600/600 [==============================] - 1s 2ms/step - loss: 0.8246 - accuracy: 0.6758\n",
            "Epoch 2/10\n",
            "600/600 [==============================] - 1s 2ms/step - loss: 0.6496 - accuracy: 0.7579\n",
            "Epoch 3/10\n",
            "600/600 [==============================] - 1s 2ms/step - loss: 0.6241 - accuracy: 0.7686\n",
            "Epoch 4/10\n",
            "600/600 [==============================] - 1s 2ms/step - loss: 0.6166 - accuracy: 0.7727\n",
            "Epoch 5/10\n",
            "600/600 [==============================] - 1s 2ms/step - loss: 0.6086 - accuracy: 0.7766\n",
            "Epoch 6/10\n",
            "600/600 [==============================] - 1s 2ms/step - loss: 0.5976 - accuracy: 0.7788\n",
            "Epoch 7/10\n",
            "600/600 [==============================] - 1s 2ms/step - loss: 0.5966 - accuracy: 0.7829\n",
            "Epoch 8/10\n",
            "600/600 [==============================] - 1s 2ms/step - loss: 0.5898 - accuracy: 0.7842\n",
            "Epoch 9/10\n",
            "600/600 [==============================] - 1s 2ms/step - loss: 0.5868 - accuracy: 0.7843\n",
            "Epoch 10/10\n",
            "600/600 [==============================] - 1s 2ms/step - loss: 0.5826 - accuracy: 0.7849\n",
            "1875/1875 [==============================] - 2s 927us/step - loss: 0.5808 - accuracy: 0.7870\n",
            "Epoch 1/10\n",
            "600/600 [==============================] - 1s 2ms/step - loss: 1.0867 - accuracy: 0.4335\n",
            "Epoch 2/10\n",
            "600/600 [==============================] - 1s 2ms/step - loss: 0.7644 - accuracy: 0.5996\n",
            "Epoch 3/10\n",
            "600/600 [==============================] - 1s 2ms/step - loss: 0.6932 - accuracy: 0.6807\n",
            "Epoch 4/10\n",
            "600/600 [==============================] - 1s 2ms/step - loss: 0.6253 - accuracy: 0.7638\n",
            "Epoch 5/10\n",
            "600/600 [==============================] - 1s 2ms/step - loss: 0.6137 - accuracy: 0.7687\n",
            "Epoch 6/10\n",
            "600/600 [==============================] - 1s 2ms/step - loss: 0.6036 - accuracy: 0.7715\n",
            "Epoch 7/10\n",
            "600/600 [==============================] - 1s 2ms/step - loss: 0.6043 - accuracy: 0.7730\n",
            "Epoch 8/10\n",
            "600/600 [==============================] - 1s 2ms/step - loss: 0.6028 - accuracy: 0.7724\n",
            "Epoch 9/10\n",
            "600/600 [==============================] - 1s 2ms/step - loss: 0.5962 - accuracy: 0.7737\n",
            "Epoch 10/10\n",
            "600/600 [==============================] - 1s 2ms/step - loss: 0.5906 - accuracy: 0.7752\n",
            "1875/1875 [==============================] - 2s 920us/step - loss: 0.5670 - accuracy: 0.7856\n",
            "Epoch 1/10\n",
            "600/600 [==============================] - 1s 2ms/step - loss: 0.8828 - accuracy: 0.6208\n",
            "Epoch 2/10\n",
            "600/600 [==============================] - 1s 2ms/step - loss: 0.6409 - accuracy: 0.7589\n",
            "Epoch 3/10\n",
            "600/600 [==============================] - 1s 2ms/step - loss: 0.6003 - accuracy: 0.7829\n",
            "Epoch 4/10\n",
            "600/600 [==============================] - 1s 2ms/step - loss: 0.5866 - accuracy: 0.7888\n",
            "Epoch 5/10\n",
            "600/600 [==============================] - 1s 2ms/step - loss: 0.5705 - accuracy: 0.7962\n",
            "Epoch 6/10\n",
            "600/600 [==============================] - 1s 2ms/step - loss: 0.5679 - accuracy: 0.7961\n",
            "Epoch 7/10\n",
            "600/600 [==============================] - 1s 2ms/step - loss: 0.5608 - accuracy: 0.7994\n",
            "Epoch 8/10\n",
            "600/600 [==============================] - 1s 2ms/step - loss: 0.5552 - accuracy: 0.8011\n",
            "Epoch 9/10\n",
            "600/600 [==============================] - 1s 2ms/step - loss: 0.5479 - accuracy: 0.8044\n",
            "Epoch 10/10\n",
            "600/600 [==============================] - 1s 2ms/step - loss: 0.5424 - accuracy: 0.8071\n",
            "1875/1875 [==============================] - 2s 910us/step - loss: 0.5142 - accuracy: 0.8146\n",
            "CPU times: user 1min 23s, sys: 5.48 s, total: 1min 29s\n",
            "Wall time: 1min 6s\n"
          ],
          "name": "stdout"
        }
      ]
    },
    {
      "cell_type": "code",
      "metadata": {
        "id": "z6wr0naINqPT",
        "colab_type": "code",
        "colab": {
          "base_uri": "https://localhost:8080/",
          "height": 348
        },
        "outputId": "8f569d0a-ffed-41d6-a72d-e772d4c97c40"
      },
      "source": [
        "result"
      ],
      "execution_count": 86,
      "outputs": [
        {
          "output_type": "execute_result",
          "data": {
            "text/plain": [
              "[{'accuracy': 0.7868366599082947,\n",
              "  'accuracy_list': [0.8082000017166138,\n",
              "   0.7387333512306213,\n",
              "   0.7870333194732666,\n",
              "   0.7855833172798157,\n",
              "   0.814633309841156],\n",
              "  'activation_function': 'relu',\n",
              "  'batch_size': 100,\n",
              "  'epochs': 10,\n",
              "  'learning_rate': 0.01,\n",
              "  'loss': 0.5822299480438232,\n",
              "  'loss_list': [0.5550279021263123,\n",
              "   0.6941044926643372,\n",
              "   0.5808365345001221,\n",
              "   0.5669528245925903,\n",
              "   0.5142279863357544],\n",
              "  'num_layer': 3,\n",
              "  'num_neuron': 20}]"
            ]
          },
          "metadata": {
            "tags": []
          },
          "execution_count": 86
        }
      ]
    },
    {
      "cell_type": "code",
      "metadata": {
        "id": "FUOjjPMaObil",
        "colab_type": "code",
        "colab": {}
      },
      "source": [
        "#Самы лучший результат accuracy:0.814 loss:0.514. Вообще по идее увеличивая batch_size должна расти точность. Скорее всего на batch_size больше 100 не хватает эпох для лучшего обучения."
      ],
      "execution_count": null,
      "outputs": []
    }
  ]
}