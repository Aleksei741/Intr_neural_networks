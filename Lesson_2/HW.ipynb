{
  "nbformat": 4,
  "nbformat_minor": 0,
  "metadata": {
    "colab": {
      "name": "HW.ipynb",
      "provenance": [],
      "collapsed_sections": []
    },
    "kernelspec": {
      "name": "python3",
      "display_name": "Python 3"
    }
  },
  "cells": [
    {
      "cell_type": "code",
      "metadata": {
        "id": "XOCTd8d3v-59",
        "colab_type": "code",
        "colab": {}
      },
      "source": [
        "import numpy as np\n",
        "#import mnist\n",
        "import keras\n",
        "from keras.datasets import fashion_mnist"
      ],
      "execution_count": 17,
      "outputs": []
    },
    {
      "cell_type": "code",
      "metadata": {
        "id": "7R7P5UquwRK4",
        "colab_type": "code",
        "colab": {}
      },
      "source": [
        "(train_images,train_labels),(test_images,test_labels)=fashion_mnist.load_data()"
      ],
      "execution_count": 18,
      "outputs": []
    },
    {
      "cell_type": "code",
      "metadata": {
        "id": "OK5ebvcDwXZv",
        "colab_type": "code",
        "colab": {}
      },
      "source": [
        "# Normalize the images.\n",
        "train_images = (train_images / 255) - 0.5\n",
        "test_images = (test_images / 255) - 0.5"
      ],
      "execution_count": 19,
      "outputs": []
    },
    {
      "cell_type": "code",
      "metadata": {
        "id": "wSSHoMRlwiU7",
        "colab_type": "code",
        "colab": {
          "base_uri": "https://localhost:8080/",
          "height": 54
        },
        "outputId": "6cd80999-ecf5-41de-e20f-1b496d60df76"
      },
      "source": [
        "print(train_images.shape) # (60000, 28, 28)\n",
        "print(test_images.shape)  # (10000, 28, 28)"
      ],
      "execution_count": 20,
      "outputs": [
        {
          "output_type": "stream",
          "text": [
            "(60000, 28, 28)\n",
            "(10000, 28, 28)\n"
          ],
          "name": "stdout"
        }
      ]
    },
    {
      "cell_type": "code",
      "metadata": {
        "id": "rz52NEUJwlDM",
        "colab_type": "code",
        "colab": {
          "base_uri": "https://localhost:8080/",
          "height": 54
        },
        "outputId": "5b87b0b2-8745-47fd-a1d8-d7a684e4ff73"
      },
      "source": [
        "# Flatten the images.\n",
        "train_images = train_images.reshape((-1, train_images.shape[1] * train_images.shape[2]))\n",
        "test_images = test_images.reshape((-1, test_images.shape[1] * test_images.shape[2]))\n",
        "\n",
        "print(train_images.shape) # (60000, 784)\n",
        "print(test_images.shape)  # (10000, 784)"
      ],
      "execution_count": 21,
      "outputs": [
        {
          "output_type": "stream",
          "text": [
            "(60000, 784)\n",
            "(10000, 784)\n"
          ],
          "name": "stdout"
        }
      ]
    },
    {
      "cell_type": "code",
      "metadata": {
        "id": "UiBHEdUxyce5",
        "colab_type": "code",
        "colab": {
          "base_uri": "https://localhost:8080/",
          "height": 35
        },
        "outputId": "4382d666-29fb-4fc1-ed19-2ba7385f9998"
      },
      "source": [
        "np.unique(train_labels)"
      ],
      "execution_count": 22,
      "outputs": [
        {
          "output_type": "execute_result",
          "data": {
            "text/plain": [
              "array([0, 1, 2, 3, 4, 5, 6, 7, 8, 9], dtype=uint8)"
            ]
          },
          "metadata": {
            "tags": []
          },
          "execution_count": 22
        }
      ]
    },
    {
      "cell_type": "code",
      "metadata": {
        "id": "xjMUeMStxt0S",
        "colab_type": "code",
        "colab": {}
      },
      "source": [
        "from keras.models import Sequential\n",
        "from keras.layers import Dense\n",
        "from keras.utils import to_categorical\n",
        "from keras.datasets import mnist"
      ],
      "execution_count": 23,
      "outputs": []
    },
    {
      "cell_type": "code",
      "metadata": {
        "id": "T6thLzUxx8-I",
        "colab_type": "code",
        "colab": {}
      },
      "source": [
        "model = Sequential()\n",
        "model.add(Dense(64, input_shape=(784,), activation='relu'))\n",
        "model.add(Dense(64, activation='relu'))\n",
        "model.add(Dense(10, activation='sigmoid'))"
      ],
      "execution_count": 24,
      "outputs": []
    },
    {
      "cell_type": "code",
      "metadata": {
        "id": "D-s2oUcRzRsl",
        "colab_type": "code",
        "colab": {}
      },
      "source": [
        "# Compile the model.\n",
        "model.compile(\n",
        "  optimizer='adam',\n",
        "  loss='categorical_crossentropy',\n",
        "  metrics=['accuracy'],\n",
        ")"
      ],
      "execution_count": 42,
      "outputs": []
    },
    {
      "cell_type": "code",
      "metadata": {
        "id": "Dub7Ws3OzXRq",
        "colab_type": "code",
        "colab": {
          "base_uri": "https://localhost:8080/",
          "height": 274
        },
        "outputId": "2035e217-536c-4ff4-f67f-9e6dca007591"
      },
      "source": [
        "model.summary()"
      ],
      "execution_count": 43,
      "outputs": [
        {
          "output_type": "stream",
          "text": [
            "Model: \"sequential_1\"\n",
            "_________________________________________________________________\n",
            "Layer (type)                 Output Shape              Param #   \n",
            "=================================================================\n",
            "dense_3 (Dense)              (None, 64)                50240     \n",
            "_________________________________________________________________\n",
            "dense_4 (Dense)              (None, 64)                4160      \n",
            "_________________________________________________________________\n",
            "dense_5 (Dense)              (None, 10)                650       \n",
            "=================================================================\n",
            "Total params: 55,050\n",
            "Trainable params: 55,050\n",
            "Non-trainable params: 0\n",
            "_________________________________________________________________\n"
          ],
          "name": "stdout"
        }
      ]
    },
    {
      "cell_type": "code",
      "metadata": {
        "id": "6Uf5WE6-zZDi",
        "colab_type": "code",
        "colab": {
          "base_uri": "https://localhost:8080/",
          "height": 439
        },
        "outputId": "febd3fec-4b31-4ccc-aecc-17335747c361"
      },
      "source": [
        "# Train the model.\n",
        "model.fit(\n",
        "  train_images,\n",
        "  to_categorical(train_labels),\n",
        "  epochs=10,\n",
        "  batch_size=200,\n",
        ")\n",
        "\n",
        "# Evaluate the model.\n",
        "model.evaluate(\n",
        "  test_images,\n",
        "  to_categorical(test_labels)\n",
        ")\n",
        "\n",
        "# Predict on the first 5 test images.\n",
        "predictions = model.predict(test_images)\n",
        "\n",
        "# Print our model's predictions.\n",
        "print(np.argmax(predictions, axis=1)[:10]) # [7, 2, 1, 0, 4]\n",
        "\n",
        "# Check our predictions against the ground truths.\n",
        "print(test_labels[:10]) # [7, 2, 1, 0, 4]"
      ],
      "execution_count": 48,
      "outputs": [
        {
          "output_type": "stream",
          "text": [
            "Epoch 1/10\n",
            "300/300 [==============================] - 1s 3ms/step - loss: 0.0894 - accuracy: 0.9668\n",
            "Epoch 2/10\n",
            "300/300 [==============================] - 1s 3ms/step - loss: 0.0823 - accuracy: 0.9695\n",
            "Epoch 3/10\n",
            "300/300 [==============================] - 1s 3ms/step - loss: 0.0828 - accuracy: 0.9697\n",
            "Epoch 4/10\n",
            "300/300 [==============================] - 1s 3ms/step - loss: 0.0794 - accuracy: 0.9704\n",
            "Epoch 5/10\n",
            "300/300 [==============================] - 1s 4ms/step - loss: 0.0771 - accuracy: 0.9720\n",
            "Epoch 6/10\n",
            "300/300 [==============================] - 1s 3ms/step - loss: 0.0800 - accuracy: 0.9711\n",
            "Epoch 7/10\n",
            "300/300 [==============================] - 1s 3ms/step - loss: 0.0756 - accuracy: 0.9725\n",
            "Epoch 8/10\n",
            "300/300 [==============================] - 1s 3ms/step - loss: 0.0770 - accuracy: 0.9714\n",
            "Epoch 9/10\n",
            "300/300 [==============================] - 1s 3ms/step - loss: 0.0767 - accuracy: 0.9720\n",
            "Epoch 10/10\n",
            "300/300 [==============================] - 1s 3ms/step - loss: 0.0760 - accuracy: 0.9719\n",
            "313/313 [==============================] - 0s 995us/step - loss: 0.5902 - accuracy: 0.8756\n",
            "[9 2 1 1 0 1 4 6 5 7]\n",
            "[9 2 1 1 6 1 4 6 5 7]\n"
          ],
          "name": "stdout"
        }
      ]
    },
    {
      "cell_type": "code",
      "metadata": {
        "id": "A94Kdl7lzo-G",
        "colab_type": "code",
        "colab": {
          "base_uri": "https://localhost:8080/",
          "height": 35
        },
        "outputId": "83e41bef-ac45-4efd-d0d0-24cb3a80d62b"
      },
      "source": [
        "keras.metrics.binary_accuracy(test_labels, np.argmax(predictions, axis=1))"
      ],
      "execution_count": 55,
      "outputs": [
        {
          "output_type": "execute_result",
          "data": {
            "text/plain": [
              "<tf.Tensor: shape=(), dtype=float32, numpy=0.1798>"
            ]
          },
          "metadata": {
            "tags": []
          },
          "execution_count": 55
        }
      ]
    },
    {
      "cell_type": "code",
      "metadata": {
        "id": "50pA_qHE61QY",
        "colab_type": "code",
        "colab": {}
      },
      "source": [
        ""
      ],
      "execution_count": null,
      "outputs": []
    }
  ]
}