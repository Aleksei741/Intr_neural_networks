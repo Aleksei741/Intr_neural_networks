{
 "cells": [
  {
   "cell_type": "code",
   "execution_count": 1,
   "metadata": {
    "colab": {},
    "colab_type": "code",
    "id": "XOCTd8d3v-59"
   },
   "outputs": [],
   "source": [
    "import numpy as np\n",
    "#import mnist\n",
    "import keras\n",
    "from keras.datasets import fashion_mnist"
   ]
  },
  {
   "cell_type": "code",
   "execution_count": 2,
   "metadata": {
    "colab": {},
    "colab_type": "code",
    "id": "7R7P5UquwRK4"
   },
   "outputs": [],
   "source": [
    "(train_images,train_labels),(test_images,test_labels)=fashion_mnist.load_data()"
   ]
  },
  {
   "cell_type": "code",
   "execution_count": 3,
   "metadata": {
    "colab": {},
    "colab_type": "code",
    "id": "OK5ebvcDwXZv"
   },
   "outputs": [],
   "source": [
    "# Normalize the images.\n",
    "train_images = (train_images / 255) - 0.5\n",
    "test_images = (test_images / 255) - 0.5"
   ]
  },
  {
   "cell_type": "code",
   "execution_count": 4,
   "metadata": {
    "colab": {
     "base_uri": "https://localhost:8080/",
     "height": 54
    },
    "colab_type": "code",
    "id": "wSSHoMRlwiU7",
    "outputId": "bcae68a2-bcb7-45da-f13a-3f2f3b2ffd41"
   },
   "outputs": [
    {
     "name": "stdout",
     "output_type": "stream",
     "text": [
      "(60000, 28, 28)\n",
      "(10000, 28, 28)\n"
     ]
    }
   ],
   "source": [
    "print(train_images.shape) # (60000, 28, 28)\n",
    "print(test_images.shape)  # (10000, 28, 28)"
   ]
  },
  {
   "cell_type": "code",
   "execution_count": 5,
   "metadata": {
    "colab": {
     "base_uri": "https://localhost:8080/",
     "height": 54
    },
    "colab_type": "code",
    "id": "rz52NEUJwlDM",
    "outputId": "b3a51360-a174-4719-b6d8-edb3fcd8b192"
   },
   "outputs": [
    {
     "name": "stdout",
     "output_type": "stream",
     "text": [
      "(60000, 784)\n",
      "(10000, 784)\n"
     ]
    }
   ],
   "source": [
    "# Flatten the images.\n",
    "train_images = train_images.reshape((-1, train_images.shape[1] * train_images.shape[2]))\n",
    "test_images = test_images.reshape((-1, test_images.shape[1] * test_images.shape[2]))\n",
    "\n",
    "print(train_images.shape) # (60000, 784)\n",
    "print(test_images.shape)  # (10000, 784)"
   ]
  },
  {
   "cell_type": "code",
   "execution_count": 6,
   "metadata": {
    "colab": {
     "base_uri": "https://localhost:8080/",
     "height": 35
    },
    "colab_type": "code",
    "id": "UiBHEdUxyce5",
    "outputId": "a53cb827-27f8-4f75-f451-7a8e4e0d5b00"
   },
   "outputs": [
    {
     "data": {
      "text/plain": [
       "array([0, 1, 2, 3, 4, 5, 6, 7, 8, 9], dtype=uint8)"
      ]
     },
     "execution_count": 6,
     "metadata": {},
     "output_type": "execute_result"
    }
   ],
   "source": [
    "np.unique(train_labels)"
   ]
  },
  {
   "cell_type": "code",
   "execution_count": 7,
   "metadata": {
    "colab": {},
    "colab_type": "code",
    "id": "xjMUeMStxt0S"
   },
   "outputs": [],
   "source": [
    "from keras.models import Sequential\n",
    "from keras.layers import Dense \n",
    "from keras.utils import to_categorical\n",
    "from keras.datasets import mnist"
   ]
  },
  {
   "cell_type": "code",
   "execution_count": 8,
   "metadata": {
    "colab": {},
    "colab_type": "code",
    "id": "T6thLzUxx8-I"
   },
   "outputs": [],
   "source": [
    "model = Sequential()\n",
    "model.add(Dense(64, input_shape=(784,), activation='relu'))\n",
    "model.add(Dense(64, activation='relu'))\n",
    "model.add(Dense(10, activation='sigmoid'))"
   ]
  },
  {
   "cell_type": "code",
   "execution_count": 9,
   "metadata": {
    "colab": {},
    "colab_type": "code",
    "id": "D-s2oUcRzRsl"
   },
   "outputs": [],
   "source": [
    "# Compile the model.\n",
    "model.compile(\n",
    "  optimizer='adam',\n",
    "  loss='categorical_crossentropy',\n",
    "  metrics='accuracy',\n",
    ")"
   ]
  },
  {
   "cell_type": "code",
   "execution_count": 10,
   "metadata": {
    "colab": {
     "base_uri": "https://localhost:8080/",
     "height": 274
    },
    "colab_type": "code",
    "id": "Dub7Ws3OzXRq",
    "outputId": "d04a6ba8-d4f0-4f73-e8db-6b71add034ba"
   },
   "outputs": [
    {
     "name": "stdout",
     "output_type": "stream",
     "text": [
      "Model: \"sequential\"\n",
      "_________________________________________________________________\n",
      "Layer (type)                 Output Shape              Param #   \n",
      "=================================================================\n",
      "dense (Dense)                (None, 64)                50240     \n",
      "_________________________________________________________________\n",
      "dense_1 (Dense)              (None, 64)                4160      \n",
      "_________________________________________________________________\n",
      "dense_2 (Dense)              (None, 10)                650       \n",
      "=================================================================\n",
      "Total params: 55,050\n",
      "Trainable params: 55,050\n",
      "Non-trainable params: 0\n",
      "_________________________________________________________________\n"
     ]
    }
   ],
   "source": [
    "model.summary()"
   ]
  },
  {
   "cell_type": "code",
   "execution_count": 11,
   "metadata": {
    "colab": {
     "base_uri": "https://localhost:8080/",
     "height": 164
    },
    "colab_type": "code",
    "id": "6Uf5WE6-zZDi",
    "outputId": "bdcd1e8a-0752-455c-c402-af7f05d1de87"
   },
   "outputs": [
    {
     "name": "stdout",
     "output_type": "stream",
     "text": [
      "Epoch 1/5\n",
      "300/300 [==============================] - 1s 2ms/step - loss: 0.6476 - accuracy: 0.7739\n",
      "Epoch 2/5\n",
      "300/300 [==============================] - 1s 2ms/step - loss: 0.4282 - accuracy: 0.8463\n",
      "Epoch 3/5\n",
      "300/300 [==============================] - 1s 2ms/step - loss: 0.3882 - accuracy: 0.8608\n",
      "Epoch 4/5\n",
      "300/300 [==============================] - 1s 2ms/step - loss: 0.3636 - accuracy: 0.8702\n",
      "Epoch 5/5\n",
      "300/300 [==============================] - 1s 2ms/step - loss: 0.3497 - accuracy: 0.8744\n",
      "<tensorflow.python.keras.callbacks.History object at 0x00000183B7A968C8>\n",
      "313/313 [==============================] - 0s 1ms/step - loss: 0.4144 - accuracy: 0.8527\n",
      "[5 2 1 1 6 1 4 6 5 7]\n",
      "[9 2 1 1 6 1 4 6 5 7]\n"
     ]
    }
   ],
   "source": [
    "# Train the model.\n",
    "met = model.fit(\n",
    "  train_images,\n",
    "  to_categorical(train_labels),\n",
    "  epochs=5,\n",
    "  batch_size=200,\n",
    ")\n",
    "\n",
    "print(met)\n",
    "\n",
    "# Evaluate the model.\n",
    "model.evaluate(\n",
    "  test_images,\n",
    "  to_categorical(test_labels)\n",
    ")\n",
    "\n",
    "# Predict on the first 5 test images.\n",
    "predictions = model.predict(test_images)\n",
    "\n",
    "# Print our model's predictions.\n",
    "print(np.argmax(predictions, axis=1)[:10]) # [7, 2, 1, 0, 4]\n",
    "\n",
    "# Check our predictions against the ground truths.\n",
    "print(test_labels[:10]) # [7, 2, 1, 0, 4]"
   ]
  },
  {
   "cell_type": "code",
   "execution_count": 12,
   "metadata": {},
   "outputs": [
    {
     "data": {
      "text/plain": [
       "0.8744166493415833"
      ]
     },
     "execution_count": 12,
     "metadata": {},
     "output_type": "execute_result"
    }
   ],
   "source": [
    "met.history['accuracy'][-1]"
   ]
  },
  {
   "cell_type": "code",
   "execution_count": 13,
   "metadata": {
    "colab": {
     "base_uri": "https://localhost:8080/",
     "height": 35
    },
    "colab_type": "code",
    "id": "A94Kdl7lzo-G",
    "outputId": "4f1f40bb-0883-4e69-e4ed-e97c3fd3a8dd"
   },
   "outputs": [
    {
     "name": "stdout",
     "output_type": "stream",
     "text": [
      "313/313 [==============================] - 1s 4ms/step - loss: 0.4144 - accuracy: 0.8527\n"
     ]
    }
   ],
   "source": [
    "met = model.evaluate(\n",
    "  test_images,\n",
    "  to_categorical(test_labels)\n",
    ")"
   ]
  },
  {
   "cell_type": "code",
   "execution_count": 14,
   "metadata": {
    "colab": {
     "base_uri": "https://localhost:8080/",
     "height": 35
    },
    "colab_type": "code",
    "id": "Dn6rAZ1iTSr5",
    "outputId": "b20ec9ad-6243-4999-ba0e-c644bd7aea6e"
   },
   "outputs": [
    {
     "data": {
      "text/plain": [
       "[0.41444578766822815, 0.8526999950408936]"
      ]
     },
     "execution_count": 14,
     "metadata": {},
     "output_type": "execute_result"
    }
   ],
   "source": [
    "met"
   ]
  },
  {
   "cell_type": "code",
   "execution_count": 15,
   "metadata": {
    "colab": {},
    "colab_type": "code",
    "id": "bmQPVfYtUJKm"
   },
   "outputs": [],
   "source": [
    "activation_functions = ['relu', 'elu', 'tanh', 'sigmoid', 'exponential', 'linear']\n",
    "num_layers = [1, 2, 3]\n",
    "num_neuron = [20, 30, 50, 64, 70, 100]\n",
    "learning_rates = [0.1, 0.01, 0.001, 'adam']\n",
    "epoch = [2, 5, 10, 20]\n",
    "batch_size = [5, 20, 30, 60, 100, 200, 500]"
   ]
  },
  {
   "cell_type": "code",
   "execution_count": 16,
   "metadata": {
    "colab": {},
    "colab_type": "code",
    "id": "UpebOORyV2zw"
   },
   "outputs": [],
   "source": [
    "def model_init(model, num_layers, num_neuron, func, lr):\n",
    "  #model = Sequential()\n",
    "  \n",
    "  if lr != 'adam':\n",
    "    opt = keras.optimizers.Adam(learning_rate=lr)\n",
    "  else:\n",
    "    opt = 'adam'\n",
    "\n",
    "  model.add(Dense(num_neuron, input_shape=(784,), activation=func))\n",
    "\n",
    "  for i in range(num_layers):\n",
    "    model.add(Dense(num_neuron, activation=func))\n",
    "\n",
    "  model.add(Dense(10, activation='sigmoid'))\n",
    "\n",
    "  # Compile the model.\n",
    "  model.compile(\n",
    "    #optimizer='adam',\n",
    "    optimizer=opt,\n",
    "    loss='categorical_crossentropy',\n",
    "    metrics='accuracy',\n",
    "  )\n",
    "\n",
    "\n",
    "\n",
    "def model_fit(model, epochs, batch_size): \n",
    "    # Train the model.\n",
    "    hist = model.fit(\n",
    "    train_images,\n",
    "    to_categorical(train_labels),\n",
    "    epochs=epochs,\n",
    "    batch_size=batch_size,\n",
    "    verbose=0,\n",
    "    )\n",
    "\n",
    "    # Evaluate the model.\n",
    "    '''metric = model.evaluate(\n",
    "    train_images,\n",
    "    to_categorical(train_labels)\n",
    "    )'''\n",
    "\n",
    "    return hist.history"
   ]
  },
  {
   "cell_type": "code",
   "execution_count": 17,
   "metadata": {
    "colab": {},
    "colab_type": "code",
    "id": "vHAe80PqY8Ng"
   },
   "outputs": [
    {
     "data": {
      "text/plain": [
       "\"%%time\\n\\nrepeat = 5\\nresult = list()\\n\\n\\nfor af in activation_functions:\\n  for nl in num_layers:\\n    for nn in num_neuron:\\n      for lr in learning_rates:\\n        for e in epoch:\\n          for bs in batch_size:\\n            result_dict = dict()\\n            result_dict['learning_rate'] = lr\\n            result_dict['activation_function'] = af\\n            result_dict['num_layer'] = nl\\n            result_dict['num_neuron'] = nn\\n            result_dict['epochs'] = e\\n            result_dict['batch_size'] = bs\\n            list_accuracy = list()\\n            list_loss = list()\\n            print(f'activation_function:{af}, num_layer:{nl}, epochs:{e}, batch_size:{bs}, learning_rates:{lr}')\\n            for r in range(repeat):  \\n              if r > 0 and list_accuracy[-1] < 0.8:\\n                break\\n              model = Sequential()\\n              model_init(model, nl, nn, af, lr)\\n              buf = model_fit(model, e, bs)\\n              list_accuracy.append(buf[1])\\n              list_loss.append(buf[0])\\n            \\n            result_dict['accuracy'] = np.array(list_accuracy).mean()\\n            result_dict['loss'] = np.array(list_loss).mean()\\n\\n            result_dict['accuracy_list'] = list_accuracy\\n            result_dict['loss_list'] = list_loss\\n\\n            result.append(result_dict)\""
      ]
     },
     "execution_count": 17,
     "metadata": {},
     "output_type": "execute_result"
    }
   ],
   "source": [
    "'''%%time\n",
    "\n",
    "repeat = 5\n",
    "result = list()\n",
    "\n",
    "\n",
    "for af in activation_functions:\n",
    "  for nl in num_layers:\n",
    "    for nn in num_neuron:\n",
    "      for lr in learning_rates:\n",
    "        for e in epoch:\n",
    "          for bs in batch_size:\n",
    "            result_dict = dict()\n",
    "            result_dict['learning_rate'] = lr\n",
    "            result_dict['activation_function'] = af\n",
    "            result_dict['num_layer'] = nl\n",
    "            result_dict['num_neuron'] = nn\n",
    "            result_dict['epochs'] = e\n",
    "            result_dict['batch_size'] = bs\n",
    "            list_accuracy = list()\n",
    "            list_loss = list()\n",
    "            print(f'activation_function:{af}, num_layer:{nl}, epochs:{e}, batch_size:{bs}, learning_rates:{lr}')\n",
    "            for r in range(repeat):  \n",
    "              if r > 0 and list_accuracy[-1] < 0.8:\n",
    "                break\n",
    "              model = Sequential()\n",
    "              model_init(model, nl, nn, af, lr)\n",
    "              buf = model_fit(model, e, bs)\n",
    "              list_accuracy.append(buf[1])\n",
    "              list_loss.append(buf[0])\n",
    "            \n",
    "            result_dict['accuracy'] = np.array(list_accuracy).mean()\n",
    "            result_dict['loss'] = np.array(list_loss).mean()\n",
    "\n",
    "            result_dict['accuracy_list'] = list_accuracy\n",
    "            result_dict['loss_list'] = list_loss\n",
    "\n",
    "            result.append(result_dict)'''\n",
    "#Это оказалось долго и не информативно"
   ]
  },
  {
   "cell_type": "code",
   "execution_count": 18,
   "metadata": {
    "colab": {},
    "colab_type": "code",
    "id": "UUXymaRn57of"
   },
   "outputs": [],
   "source": [
    "#Пойдем по кускам"
   ]
  },
  {
   "cell_type": "code",
   "execution_count": 19,
   "metadata": {
    "colab": {},
    "colab_type": "code",
    "id": "VvHFEnaG-9U9"
   },
   "outputs": [],
   "source": [
    "def fit_for_parameters(result, af, lr, nl, nn, e, bs, repeat=10):\n",
    "    result_dict = dict()\n",
    "    result_dict['activation_function'] = af\n",
    "    result_dict['learning_rate'] = lr  \n",
    "    result_dict['num_layer'] = nl\n",
    "    result_dict['num_neuron'] = nn\n",
    "    result_dict['epochs'] = e\n",
    "    result_dict['batch_size'] = bs\n",
    "    list_accuracy = list()\n",
    "    list_loss = list()\n",
    "    print(f'activation_function:{af}, num_layer:{nl}, epochs:{e}, batch_size:{bs}, learning_rates:{lr}, num_neuron:{nn}')\n",
    "    for r in range(repeat):  \n",
    "        #if r > 0 and list_accuracy[-1] < 0.5:\n",
    "          #break\n",
    "        model = Sequential()\n",
    "        model_init(model, nl, nn, af, lr)\n",
    "        buf = model_fit(model, e, bs)\n",
    "        list_accuracy.append(buf['accuracy'][-1])\n",
    "        list_loss.append(buf['loss'][-1])\n",
    "        print('accuracy: ', list_accuracy[-1], ' ', 'loss: ', list_loss[-1])\n",
    "        #model.summary()\n",
    "    \n",
    "\n",
    "    result_dict['accuracy'] = np.array(list_accuracy).mean()\n",
    "    result_dict['loss'] = np.array(list_loss).mean()\n",
    "\n",
    "    result_dict['accuracy_list'] = list_accuracy\n",
    "    result_dict['loss_list'] = list_loss\n",
    "\n",
    "    result.append(result_dict)\n",
    "\n",
    "def best_search(result, parameter):\n",
    "    accuracy__ = 0;\n",
    "\n",
    "    for i in range(len(result)):\n",
    "        print(result[i][parameter], ':', result[i]['accuracy'])\n",
    "\n",
    "        if result[i]['accuracy'] > accuracy__:\n",
    "            accuracy__ = result[i]['accuracy']\n",
    "            i_best = i\n",
    "\n",
    "    print()\n",
    "    print('best: ', end=' ')\n",
    "    print(result[i_best][parameter])\n",
    "    \n",
    "    return result[i_best][parameter]"
   ]
  },
  {
   "cell_type": "code",
   "execution_count": 20,
   "metadata": {
    "colab": {},
    "colab_type": "code",
    "id": "ZsqldppU4rGB",
    "scrolled": true
   },
   "outputs": [
    {
     "name": "stdout",
     "output_type": "stream",
     "text": [
      "Wall time: 0 ns\n",
      "activation_function:relu, num_layer:1, epochs:5, batch_size:200, learning_rates:0.001, num_neuron:64\n",
      "accuracy:  0.8764166831970215   loss:  0.34009575843811035\n",
      "accuracy:  0.8782666921615601   loss:  0.3381955325603485\n",
      "accuracy:  0.8762833476066589   loss:  0.3435174226760864\n",
      "accuracy:  0.8775166869163513   loss:  0.33833733201026917\n",
      "accuracy:  0.8749833106994629   loss:  0.34518909454345703\n",
      "accuracy:  0.8760666847229004   loss:  0.3392249643802643\n",
      "accuracy:  0.8773833513259888   loss:  0.33587294816970825\n",
      "accuracy:  0.8729000091552734   loss:  0.34946274757385254\n",
      "accuracy:  0.8761500120162964   loss:  0.34066471457481384\n",
      "accuracy:  0.8754333257675171   loss:  0.3455183804035187\n",
      "activation_function:elu, num_layer:1, epochs:5, batch_size:200, learning_rates:0.001, num_neuron:64\n",
      "accuracy:  0.8742666840553284   loss:  0.34741076827049255\n",
      "accuracy:  0.8734999895095825   loss:  0.35001763701438904\n",
      "accuracy:  0.8743500113487244   loss:  0.34738874435424805\n",
      "accuracy:  0.8755333423614502   loss:  0.34474289417266846\n",
      "accuracy:  0.8735833168029785   loss:  0.3509620428085327\n",
      "accuracy:  0.8727999925613403   loss:  0.35303056240081787\n",
      "accuracy:  0.8738666772842407   loss:  0.3511398434638977\n",
      "accuracy:  0.8743166923522949   loss:  0.3477482497692108\n",
      "accuracy:  0.8716833591461182   loss:  0.3525750935077667\n",
      "accuracy:  0.8739166855812073   loss:  0.3503674566745758\n",
      "activation_function:tanh, num_layer:1, epochs:5, batch_size:200, learning_rates:0.001, num_neuron:64\n",
      "accuracy:  0.8822833299636841   loss:  0.32892081141471863\n",
      "accuracy:  0.8836333155632019   loss:  0.32430174946784973\n",
      "accuracy:  0.8820000290870667   loss:  0.32699650526046753\n",
      "accuracy:  0.8817833065986633   loss:  0.32862234115600586\n",
      "accuracy:  0.8810833096504211   loss:  0.33088594675064087\n",
      "accuracy:  0.8831166625022888   loss:  0.32667475938796997\n",
      "accuracy:  0.8823000192642212   loss:  0.3283208906650543\n",
      "accuracy:  0.8816999793052673   loss:  0.3275066614151001\n",
      "accuracy:  0.8817999958992004   loss:  0.33038032054901123\n",
      "accuracy:  0.882183313369751   loss:  0.3307662904262543\n",
      "activation_function:sigmoid, num_layer:1, epochs:5, batch_size:200, learning_rates:0.001, num_neuron:64\n",
      "accuracy:  0.8625333309173584   loss:  0.3873206377029419\n",
      "accuracy:  0.8617166876792908   loss:  0.39073440432548523\n",
      "accuracy:  0.862333357334137   loss:  0.3894868493080139\n",
      "accuracy:  0.8642666935920715   loss:  0.3876190185546875\n",
      "accuracy:  0.8640666604042053   loss:  0.38787025213241577\n",
      "accuracy:  0.8639833331108093   loss:  0.38647374510765076\n",
      "accuracy:  0.8635333180427551   loss:  0.3892000615596771\n",
      "accuracy:  0.8643166422843933   loss:  0.3860519528388977\n",
      "accuracy:  0.864466667175293   loss:  0.38522717356681824\n",
      "accuracy:  0.8640333414077759   loss:  0.38492628931999207\n",
      "activation_function:exponential, num_layer:1, epochs:5, batch_size:200, learning_rates:0.001, num_neuron:64\n",
      "accuracy:  0.10000000149011612   loss:  nan\n",
      "accuracy:  0.8735499978065491   loss:  0.34792569279670715\n",
      "accuracy:  0.10000000149011612   loss:  nan\n",
      "accuracy:  0.10000000149011612   loss:  nan\n",
      "accuracy:  0.10000000149011612   loss:  nan\n",
      "accuracy:  0.10000000149011612   loss:  nan\n",
      "accuracy:  0.10000000149011612   loss:  nan\n",
      "accuracy:  0.8709666728973389   loss:  0.357022762298584\n",
      "accuracy:  0.8722000122070312   loss:  0.34649404883384705\n",
      "accuracy:  0.8722833395004272   loss:  0.34937426447868347\n",
      "activation_function:linear, num_layer:1, epochs:5, batch_size:200, learning_rates:0.001, num_neuron:64\n",
      "accuracy:  0.8520833253860474   loss:  0.4192129671573639\n",
      "accuracy:  0.8500999808311462   loss:  0.42085710167884827\n",
      "accuracy:  0.8487833142280579   loss:  0.4233963191509247\n",
      "accuracy:  0.8517166376113892   loss:  0.42174720764160156\n",
      "accuracy:  0.8504999876022339   loss:  0.4217594861984253\n",
      "accuracy:  0.8509166836738586   loss:  0.4206588566303253\n",
      "accuracy:  0.8534333109855652   loss:  0.41778355836868286\n",
      "accuracy:  0.8515499830245972   loss:  0.41958609223365784\n",
      "accuracy:  0.8519999980926514   loss:  0.4204855263233185\n",
      "accuracy:  0.8492500185966492   loss:  0.4233956038951874\n"
     ]
    }
   ],
   "source": [
    "#ВЫберем активационную функцию\n",
    "\n",
    "result = list()\n",
    "\n",
    "lr = 0.001\n",
    "nl = 1\n",
    "nn = 64\n",
    "e = 5\n",
    "bs = 200\n",
    "\n",
    "for af in activation_functions:\n",
    "      fit_for_parameters(result, af, lr, nl, nn, e, bs)  "
   ]
  },
  {
   "cell_type": "code",
   "execution_count": 21,
   "metadata": {
    "colab": {
     "base_uri": "https://localhost:8080/",
     "height": 164
    },
    "colab_type": "code",
    "id": "Kd7NFexD9Pre",
    "outputId": "7a8d9a3a-7fdf-4f8b-94fa-4e6a82684400"
   },
   "outputs": [
    {
     "name": "stdout",
     "output_type": "stream",
     "text": [
      "relu : 0.876140010356903\n",
      "elu : 0.8737816751003266\n",
      "tanh : 0.8821883261203766\n",
      "sigmoid : 0.863525003194809\n",
      "exponential : 0.4089000031352043\n",
      "linear : 0.8510333240032196\n",
      "\n",
      "best:  tanh\n"
     ]
    }
   ],
   "source": [
    "best_af = best_search(result, 'activation_function')"
   ]
  },
  {
   "cell_type": "code",
   "execution_count": 22,
   "metadata": {
    "colab": {},
    "colab_type": "code",
    "id": "p8-gcvTB6AwC",
    "scrolled": true
   },
   "outputs": [
    {
     "name": "stdout",
     "output_type": "stream",
     "text": [
      "Wall time: 0 ns\n",
      "activation_function:tanh, num_layer:1, epochs:5, batch_size:200, learning_rates:0.1, num_neuron:64\n",
      "accuracy:  0.16983333230018616   loss:  1.7442129850387573\n",
      "accuracy:  0.14880000054836273   loss:  1.5590088367462158\n",
      "accuracy:  0.3794499933719635   loss:  1.4227062463760376\n",
      "accuracy:  0.4138166606426239   loss:  1.3202840089797974\n",
      "accuracy:  0.4205666780471802   loss:  1.2818100452423096\n",
      "accuracy:  0.38643333315849304   loss:  1.3888403177261353\n",
      "accuracy:  0.11403333395719528   loss:  2.0065605640411377\n",
      "accuracy:  0.18889999389648438   loss:  1.830083966255188\n",
      "accuracy:  0.42026665806770325   loss:  1.345859169960022\n",
      "accuracy:  0.3357333242893219   loss:  1.565992832183838\n",
      "activation_function:tanh, num_layer:1, epochs:5, batch_size:200, learning_rates:0.01, num_neuron:64\n",
      "accuracy:  0.852649986743927   loss:  0.411349892616272\n",
      "accuracy:  0.852400004863739   loss:  0.41284239292144775\n",
      "accuracy:  0.8526833057403564   loss:  0.40789058804512024\n",
      "accuracy:  0.8525833487510681   loss:  0.4144090712070465\n",
      "accuracy:  0.8537333607673645   loss:  0.4084632992744446\n",
      "accuracy:  0.8480166792869568   loss:  0.4281218945980072\n",
      "accuracy:  0.8519499897956848   loss:  0.41688892245292664\n",
      "accuracy:  0.8539000153541565   loss:  0.4049006700515747\n",
      "accuracy:  0.8492500185966492   loss:  0.42225873470306396\n",
      "accuracy:  0.8546666502952576   loss:  0.4078415334224701\n",
      "activation_function:tanh, num_layer:1, epochs:5, batch_size:200, learning_rates:0.001, num_neuron:64\n",
      "accuracy:  0.8830000162124634   loss:  0.3267415761947632\n",
      "accuracy:  0.8830833435058594   loss:  0.32571902871131897\n",
      "accuracy:  0.880816638469696   loss:  0.33049476146698\n",
      "accuracy:  0.8826500177383423   loss:  0.3269534409046173\n",
      "accuracy:  0.8821166753768921   loss:  0.3286783993244171\n",
      "accuracy:  0.8828999996185303   loss:  0.32762816548347473\n",
      "accuracy:  0.8837833404541016   loss:  0.32480588555336\n",
      "accuracy:  0.8824999928474426   loss:  0.3273424506187439\n",
      "accuracy:  0.8817333579063416   loss:  0.3289046287536621\n",
      "accuracy:  0.882183313369751   loss:  0.3275122046470642\n",
      "activation_function:tanh, num_layer:1, epochs:5, batch_size:200, learning_rates:adam, num_neuron:64\n",
      "accuracy:  0.8810666799545288   loss:  0.33017876744270325\n",
      "accuracy:  0.8808333277702332   loss:  0.3295157551765442\n",
      "accuracy:  0.8823333382606506   loss:  0.32519614696502686\n",
      "accuracy:  0.882266640663147   loss:  0.3270168602466583\n",
      "accuracy:  0.8820833563804626   loss:  0.327051043510437\n",
      "accuracy:  0.8826833367347717   loss:  0.3280501067638397\n",
      "accuracy:  0.8814333081245422   loss:  0.3261094093322754\n",
      "accuracy:  0.8829500079154968   loss:  0.3269076943397522\n",
      "accuracy:  0.883400022983551   loss:  0.32532694935798645\n",
      "accuracy:  0.8821499943733215   loss:  0.32767391204833984\n"
     ]
    }
   ],
   "source": [
    "#Лучшая tanh, берем еЁ.\n",
    "#Поиск скорости обучения \n",
    "\n",
    "result = list()\n",
    "\n",
    "af = best_af\n",
    "lr = 0.001\n",
    "nl = 1\n",
    "nn = 64\n",
    "e = 5\n",
    "bs = 200\n",
    "\n",
    "for lr in learning_rates:\n",
    "      fit_for_parameters(result, af, lr, nl, nn, e, bs) "
   ]
  },
  {
   "cell_type": "code",
   "execution_count": 23,
   "metadata": {
    "colab": {
     "base_uri": "https://localhost:8080/",
     "height": 127
    },
    "colab_type": "code",
    "id": "nFXU96VT6Xae",
    "outputId": "c31319de-960c-481a-9047-6753a499fc6e"
   },
   "outputs": [
    {
     "name": "stdout",
     "output_type": "stream",
     "text": [
      "0.1 : 0.29778333082795144\n",
      "0.01 : 0.852183336019516\n",
      "0.001 : 0.882476669549942\n",
      "adam : 0.8821200013160706\n",
      "\n",
      "best:  0.001\n"
     ]
    }
   ],
   "source": [
    "best_lr = best_search(result, 'learning_rate')"
   ]
  },
  {
   "cell_type": "code",
   "execution_count": 24,
   "metadata": {
    "colab": {},
    "colab_type": "code",
    "id": "eSMjFTJHCm1-"
   },
   "outputs": [],
   "source": [
    "#Странно, что даже с оптимизатором результат хуже, чем с фиксированной скоростью обучения, но ладно берем ее. Хотя есть вариант, что при 0.001 она не успевала до обучиться."
   ]
  },
  {
   "cell_type": "code",
   "execution_count": 25,
   "metadata": {
    "colab": {},
    "colab_type": "code",
    "id": "qkcM5W75C8wJ"
   },
   "outputs": [
    {
     "name": "stdout",
     "output_type": "stream",
     "text": [
      "Wall time: 0 ns\n",
      "activation_function:tanh, num_layer:1, epochs:5, batch_size:200, learning_rates:0.001, num_neuron:64\n",
      "accuracy:  0.8823166489601135   loss:  0.3282926380634308\n",
      "accuracy:  0.8799333572387695   loss:  0.33165380358695984\n",
      "accuracy:  0.8825166821479797   loss:  0.32739928364753723\n",
      "accuracy:  0.8823000192642212   loss:  0.3280850648880005\n",
      "accuracy:  0.8814833164215088   loss:  0.32967066764831543\n",
      "accuracy:  0.8810999989509583   loss:  0.3304305672645569\n",
      "accuracy:  0.8819833397865295   loss:  0.32841402292251587\n",
      "accuracy:  0.8803166747093201   loss:  0.3337719142436981\n",
      "accuracy:  0.8827333450317383   loss:  0.32519304752349854\n",
      "accuracy:  0.8812333345413208   loss:  0.33111631870269775\n",
      "activation_function:tanh, num_layer:2, epochs:5, batch_size:200, learning_rates:0.001, num_neuron:64\n",
      "accuracy:  0.8827000260353088   loss:  0.32693934440612793\n",
      "accuracy:  0.8840166926383972   loss:  0.3234184980392456\n",
      "accuracy:  0.8834333419799805   loss:  0.3232998251914978\n",
      "accuracy:  0.8826333284378052   loss:  0.32330405712127686\n",
      "accuracy:  0.8807833194732666   loss:  0.3294731378555298\n",
      "accuracy:  0.8829333186149597   loss:  0.32623574137687683\n",
      "accuracy:  0.8824333548545837   loss:  0.32554492354393005\n",
      "accuracy:  0.8833833336830139   loss:  0.31959274411201477\n",
      "accuracy:  0.882266640663147   loss:  0.32501956820487976\n",
      "accuracy:  0.8830999732017517   loss:  0.32261213660240173\n",
      "activation_function:tanh, num_layer:3, epochs:5, batch_size:200, learning_rates:0.001, num_neuron:64\n",
      "accuracy:  0.8837666511535645   loss:  0.32213765382766724\n",
      "accuracy:  0.883983314037323   loss:  0.321480393409729\n",
      "accuracy:  0.8837000131607056   loss:  0.3235178589820862\n",
      "accuracy:  0.8830500245094299   loss:  0.32307276129722595\n",
      "accuracy:  0.8820000290870667   loss:  0.3243412971496582\n",
      "accuracy:  0.8804000020027161   loss:  0.3273524045944214\n",
      "accuracy:  0.8809499740600586   loss:  0.32897430658340454\n",
      "accuracy:  0.8857666850090027   loss:  0.31866103410720825\n",
      "accuracy:  0.8837166428565979   loss:  0.32148274779319763\n",
      "accuracy:  0.8813666701316833   loss:  0.3277124762535095\n"
     ]
    }
   ],
   "source": [
    "#Подберем количество слоев, помимо входного и выходного\n",
    "\n",
    "result = list()\n",
    "\n",
    "af = best_af\n",
    "lr = best_lr\n",
    "nl = 1\n",
    "nn = 64\n",
    "e = 5\n",
    "bs = 200\n",
    "\n",
    "for nl in num_layers:\n",
    "  fit_for_parameters(result, af, lr, nl, nn, e, bs) "
   ]
  },
  {
   "cell_type": "code",
   "execution_count": 26,
   "metadata": {
    "colab": {
     "base_uri": "https://localhost:8080/",
     "height": 109
    },
    "colab_type": "code",
    "id": "LS5i91kODejq",
    "outputId": "cf9587f3-c4d4-4a10-80b0-d59d6757e3fd"
   },
   "outputs": [
    {
     "name": "stdout",
     "output_type": "stream",
     "text": [
      "1 : 0.881591671705246\n",
      "2 : 0.8827683329582214\n",
      "3 : 0.8828700006008148\n",
      "\n",
      "best:  3\n"
     ]
    }
   ],
   "source": [
    "best_nl = best_search(result, 'num_layer')"
   ]
  },
  {
   "cell_type": "code",
   "execution_count": 27,
   "metadata": {
    "colab": {},
    "colab_type": "code",
    "id": "s7IqmvH7EPi3"
   },
   "outputs": [],
   "source": [
    "#Лучший результат с 3 внутр. слоями"
   ]
  },
  {
   "cell_type": "code",
   "execution_count": 28,
   "metadata": {
    "colab": {},
    "colab_type": "code",
    "id": "8JndJEeyEZcM"
   },
   "outputs": [
    {
     "name": "stdout",
     "output_type": "stream",
     "text": [
      "Wall time: 0 ns\n",
      "activation_function:tanh, num_layer:3, epochs:5, batch_size:200, learning_rates:0.001, num_neuron:20\n",
      "accuracy:  0.8677666783332825   loss:  0.3987771272659302\n",
      "accuracy:  0.8670333623886108   loss:  0.3973860740661621\n",
      "accuracy:  0.8644333481788635   loss:  0.39798596501350403\n",
      "accuracy:  0.8670666813850403   loss:  0.3990117311477661\n",
      "accuracy:  0.8695833086967468   loss:  0.39010852575302124\n",
      "accuracy:  0.8642333149909973   loss:  0.4006446301937103\n",
      "accuracy:  0.8639500141143799   loss:  0.4090561866760254\n",
      "accuracy:  0.8602833151817322   loss:  0.4127732515335083\n",
      "accuracy:  0.8669166564941406   loss:  0.4006871283054352\n",
      "accuracy:  0.8699833154678345   loss:  0.39083951711654663\n",
      "activation_function:tanh, num_layer:3, epochs:5, batch_size:200, learning_rates:0.001, num_neuron:30\n",
      "accuracy:  0.8758833408355713   loss:  0.3567487299442291\n",
      "accuracy:  0.8765166401863098   loss:  0.35808444023132324\n",
      "accuracy:  0.876716673374176   loss:  0.35847529768943787\n",
      "accuracy:  0.8747333288192749   loss:  0.36313727498054504\n",
      "accuracy:  0.8753833174705505   loss:  0.3600315451622009\n",
      "accuracy:  0.874833345413208   loss:  0.35468655824661255\n",
      "accuracy:  0.8770166635513306   loss:  0.35277482867240906\n",
      "accuracy:  0.8744666576385498   loss:  0.3601907193660736\n",
      "accuracy:  0.8744833469390869   loss:  0.35945260524749756\n",
      "accuracy:  0.8747833371162415   loss:  0.3588631749153137\n",
      "activation_function:tanh, num_layer:3, epochs:5, batch_size:200, learning_rates:0.001, num_neuron:50\n",
      "accuracy:  0.8804166913032532   loss:  0.3362768888473511\n",
      "accuracy:  0.880383312702179   loss:  0.3366052210330963\n",
      "accuracy:  0.8835499882698059   loss:  0.33012670278549194\n",
      "accuracy:  0.8812333345413208   loss:  0.33354100584983826\n",
      "accuracy:  0.8811500072479248   loss:  0.33190810680389404\n",
      "accuracy:  0.8811333179473877   loss:  0.3311944305896759\n",
      "accuracy:  0.8815000057220459   loss:  0.3338755667209625\n",
      "accuracy:  0.8790833353996277   loss:  0.33551856875419617\n",
      "accuracy:  0.8798333406448364   loss:  0.33121100068092346\n",
      "accuracy:  0.8803666830062866   loss:  0.3337422311306\n",
      "activation_function:tanh, num_layer:3, epochs:5, batch_size:200, learning_rates:0.001, num_neuron:64\n",
      "accuracy:  0.8811666369438171   loss:  0.32830068469047546\n",
      "accuracy:  0.8829166889190674   loss:  0.3247653543949127\n",
      "accuracy:  0.8855166435241699   loss:  0.31924527883529663\n",
      "accuracy:  0.8831499814987183   loss:  0.3236544728279114\n",
      "accuracy:  0.8812999725341797   loss:  0.32486918568611145\n",
      "accuracy:  0.8844166398048401   loss:  0.3219858407974243\n",
      "accuracy:  0.8842833042144775   loss:  0.3216892182826996\n",
      "accuracy:  0.8830166459083557   loss:  0.3243926167488098\n",
      "accuracy:  0.8840500116348267   loss:  0.32234036922454834\n",
      "accuracy:  0.8835999965667725   loss:  0.32175412774086\n",
      "activation_function:tanh, num_layer:3, epochs:5, batch_size:200, learning_rates:0.001, num_neuron:70\n",
      "accuracy:  0.8827999830245972   loss:  0.3234333395957947\n",
      "accuracy:  0.8853833079338074   loss:  0.3175007700920105\n",
      "accuracy:  0.883483350276947   loss:  0.31842344999313354\n",
      "accuracy:  0.885366678237915   loss:  0.31873244047164917\n",
      "accuracy:  0.8824666738510132   loss:  0.3256293535232544\n",
      "accuracy:  0.8845833539962769   loss:  0.31868723034858704\n",
      "accuracy:  0.8837833404541016   loss:  0.32052361965179443\n",
      "accuracy:  0.8846833109855652   loss:  0.31891772150993347\n",
      "accuracy:  0.884850025177002   loss:  0.31816115975379944\n",
      "accuracy:  0.8835499882698059   loss:  0.3201940357685089\n",
      "activation_function:tanh, num_layer:3, epochs:5, batch_size:200, learning_rates:0.001, num_neuron:100\n",
      "accuracy:  0.8844166398048401   loss:  0.3119335174560547\n",
      "accuracy:  0.8862166404724121   loss:  0.31112346053123474\n",
      "accuracy:  0.8862333297729492   loss:  0.311593621969223\n",
      "accuracy:  0.8860333561897278   loss:  0.31027743220329285\n",
      "accuracy:  0.8865000009536743   loss:  0.3109886050224304\n",
      "accuracy:  0.8862166404724121   loss:  0.31126463413238525\n",
      "accuracy:  0.8851500153541565   loss:  0.31559574604034424\n",
      "accuracy:  0.8853333592414856   loss:  0.31418031454086304\n",
      "accuracy:  0.8869666457176208   loss:  0.30910032987594604\n",
      "accuracy:  0.885116696357727   loss:  0.31162789463996887\n"
     ]
    }
   ],
   "source": [
    "#Подберем кол-во нейронов в слое\n",
    "\n",
    "result = list()\n",
    "\n",
    "af = best_af\n",
    "lr = best_lr\n",
    "nl = best_nl\n",
    "nn = 64\n",
    "e = 5\n",
    "bs = 200\n",
    "\n",
    "for nn in num_neuron:\n",
    "  fit_for_parameters(result, af, lr, nl, nn, e, bs) "
   ]
  },
  {
   "cell_type": "code",
   "execution_count": 29,
   "metadata": {
    "colab": {
     "base_uri": "https://localhost:8080/",
     "height": 146
    },
    "colab_type": "code",
    "id": "a9MAgG-sEmFR",
    "outputId": "04a39282-636e-45f3-da69-dd31c1097f9f"
   },
   "outputs": [
    {
     "name": "stdout",
     "output_type": "stream",
     "text": [
      "20 : 0.8661249995231628\n",
      "30 : 0.8754816651344299\n",
      "50 : 0.8808650016784668\n",
      "64 : 0.8833416521549224\n",
      "70 : 0.8840950012207032\n",
      "100 : 0.8858183324337006\n",
      "\n",
      "best:  100\n"
     ]
    }
   ],
   "source": [
    "best_nn = best_search(result, 'num_neuron')"
   ]
  },
  {
   "cell_type": "code",
   "execution_count": 30,
   "metadata": {
    "colab": {},
    "colab_type": "code",
    "id": "ayEogCX5GHpV"
   },
   "outputs": [],
   "source": [
    "#Чем больше нейронов, тем умнее сеть"
   ]
  },
  {
   "cell_type": "code",
   "execution_count": 31,
   "metadata": {
    "colab": {},
    "colab_type": "code",
    "id": "YtavNXE_HjOb"
   },
   "outputs": [
    {
     "name": "stdout",
     "output_type": "stream",
     "text": [
      "Wall time: 0 ns\n",
      "activation_function:tanh, num_layer:3, epochs:2, batch_size:200, learning_rates:0.001, num_neuron:100\n",
      "accuracy:  0.8573499917984009   loss:  0.3963013291358948\n",
      "accuracy:  0.8586333394050598   loss:  0.39465847611427307\n",
      "accuracy:  0.8583666682243347   loss:  0.3984951078891754\n",
      "accuracy:  0.8565499782562256   loss:  0.39924538135528564\n",
      "accuracy:  0.8577333092689514   loss:  0.3961707353591919\n",
      "accuracy:  0.8574000000953674   loss:  0.3999496102333069\n",
      "accuracy:  0.8555166721343994   loss:  0.4027100205421448\n",
      "accuracy:  0.8567000031471252   loss:  0.3969877064228058\n",
      "accuracy:  0.8573166728019714   loss:  0.39790669083595276\n",
      "accuracy:  0.8585500121116638   loss:  0.39706504344940186\n",
      "activation_function:tanh, num_layer:3, epochs:5, batch_size:200, learning_rates:0.001, num_neuron:100\n",
      "accuracy:  0.8848166465759277   loss:  0.31283557415008545\n",
      "accuracy:  0.8862000107765198   loss:  0.3095434904098511\n",
      "accuracy:  0.8838833570480347   loss:  0.3187587857246399\n",
      "accuracy:  0.8855500221252441   loss:  0.31338074803352356\n",
      "accuracy:  0.8856833577156067   loss:  0.31223225593566895\n",
      "accuracy:  0.8841999769210815   loss:  0.3158806264400482\n",
      "accuracy:  0.8847333192825317   loss:  0.31604599952697754\n",
      "accuracy:  0.8849166631698608   loss:  0.31283411383628845\n",
      "accuracy:  0.8866000175476074   loss:  0.3144170641899109\n",
      "accuracy:  0.888450026512146   loss:  0.3084336817264557\n",
      "activation_function:tanh, num_layer:3, epochs:10, batch_size:200, learning_rates:0.001, num_neuron:100\n",
      "accuracy:  0.9087166786193848   loss:  0.24871931970119476\n",
      "accuracy:  0.9092833399772644   loss:  0.24847276508808136\n",
      "accuracy:  0.9081000089645386   loss:  0.24811533093452454\n",
      "accuracy:  0.9059333205223083   loss:  0.2538461685180664\n",
      "accuracy:  0.9071666598320007   loss:  0.25048452615737915\n",
      "accuracy:  0.9051666855812073   loss:  0.25309962034225464\n",
      "accuracy:  0.9069333076477051   loss:  0.2515828311443329\n",
      "accuracy:  0.9076499938964844   loss:  0.2494797706604004\n",
      "accuracy:  0.9065499901771545   loss:  0.25313374400138855\n",
      "accuracy:  0.9053833484649658   loss:  0.2539932131767273\n",
      "activation_function:tanh, num_layer:3, epochs:20, batch_size:200, learning_rates:0.001, num_neuron:100\n",
      "accuracy:  0.9324666857719421   loss:  0.1858898252248764\n",
      "accuracy:  0.9330333471298218   loss:  0.18075434863567352\n",
      "accuracy:  0.9326500296592712   loss:  0.18177835643291473\n",
      "accuracy:  0.931683361530304   loss:  0.18341366946697235\n",
      "accuracy:  0.932033360004425   loss:  0.18152698874473572\n",
      "accuracy:  0.9340833425521851   loss:  0.17767171561717987\n",
      "accuracy:  0.9326666593551636   loss:  0.18159356713294983\n",
      "accuracy:  0.9356499910354614   loss:  0.17524176836013794\n",
      "accuracy:  0.9311500191688538   loss:  0.18507064878940582\n",
      "accuracy:  0.9327999949455261   loss:  0.180450901389122\n"
     ]
    }
   ],
   "source": [
    "#Подберем кол-во эпох\n",
    "\n",
    "result = list()\n",
    "\n",
    "af = best_af\n",
    "lr = best_lr\n",
    "nl = best_nl\n",
    "nn = best_nn\n",
    "e = 5\n",
    "bs = 200\n",
    "\n",
    "for e in epoch:\n",
    "  fit_for_parameters(result, af, lr, nl, nn, e, bs) "
   ]
  },
  {
   "cell_type": "code",
   "execution_count": 32,
   "metadata": {
    "colab": {
     "base_uri": "https://localhost:8080/",
     "height": 127
    },
    "colab_type": "code",
    "id": "dSx8WW74H8bv",
    "outputId": "eb77c716-a272-4cb2-85c9-c6f099da4bd6"
   },
   "outputs": [
    {
     "name": "stdout",
     "output_type": "stream",
     "text": [
      "2 : 0.8574116647243499\n",
      "5 : 0.8855033397674561\n",
      "10 : 0.9070883333683014\n",
      "20 : 0.9328216791152955\n",
      "\n",
      "best:  20\n"
     ]
    }
   ],
   "source": [
    "best_e = best_search(result, 'epochs')"
   ]
  },
  {
   "cell_type": "code",
   "execution_count": 33,
   "metadata": {
    "colab": {},
    "colab_type": "code",
    "id": "kNr341hZJVPs"
   },
   "outputs": [],
   "source": [
    "#Результат логичен, поскольку кол-во эпох это количество проходов по нашей тренировочной выборке, то с увеличением кол-ва проходов модель сильнее обучается тренировочной выборке, при этом мы не контролируем результат тестовой выборки. Не будем брать 20, но возьмем 10."
   ]
  },
  {
   "cell_type": "code",
   "execution_count": 35,
   "metadata": {
    "colab": {},
    "colab_type": "code",
    "id": "2ivdNdWWJvDw"
   },
   "outputs": [
    {
     "name": "stdout",
     "output_type": "stream",
     "text": [
      "Wall time: 0 ns\n",
      "activation_function:tanh, num_layer:3, epochs:20, batch_size:5, learning_rates:0.001, num_neuron:100\n",
      "accuracy:  0.8640499711036682   loss:  0.3786129355430603\n",
      "accuracy:  0.862766683101654   loss:  0.38258814811706543\n",
      "accuracy:  0.8624500036239624   loss:  0.3826856315135956\n",
      "activation_function:tanh, num_layer:3, epochs:20, batch_size:20, learning_rates:0.001, num_neuron:100\n",
      "accuracy:  0.9103333353996277   loss:  0.238469660282135\n",
      "accuracy:  0.9093666672706604   loss:  0.24301952123641968\n",
      "accuracy:  0.9093499779701233   loss:  0.2425490915775299\n",
      "activation_function:tanh, num_layer:3, epochs:20, batch_size:30, learning_rates:0.001, num_neuron:100\n",
      "accuracy:  0.9228666424751282   loss:  0.2052416205406189\n",
      "accuracy:  0.9211999773979187   loss:  0.20873095095157623\n",
      "accuracy:  0.9236500263214111   loss:  0.2048419564962387\n",
      "activation_function:tanh, num_layer:3, epochs:20, batch_size:60, learning_rates:0.001, num_neuron:100\n",
      "accuracy:  0.932366669178009   loss:  0.18044748902320862\n",
      "accuracy:  0.9329833388328552   loss:  0.17862540483474731\n",
      "accuracy:  0.9333666563034058   loss:  0.1775209605693817\n",
      "activation_function:tanh, num_layer:3, epochs:20, batch_size:100, learning_rates:0.001, num_neuron:100\n",
      "accuracy:  0.9356499910354614   loss:  0.16948756575584412\n",
      "accuracy:  0.9348833560943604   loss:  0.17408759891986847\n",
      "accuracy:  0.9380000233650208   loss:  0.16767892241477966\n",
      "activation_function:tanh, num_layer:3, epochs:20, batch_size:200, learning_rates:0.001, num_neuron:100\n",
      "accuracy:  0.9332000017166138   loss:  0.17966771125793457\n",
      "accuracy:  0.934066653251648   loss:  0.17981328070163727\n",
      "accuracy:  0.9336166381835938   loss:  0.18123690783977509\n",
      "activation_function:tanh, num_layer:3, epochs:20, batch_size:500, learning_rates:0.001, num_neuron:100\n",
      "accuracy:  0.9264833331108093   loss:  0.2028200477361679\n",
      "accuracy:  0.9252833127975464   loss:  0.2039128690958023\n",
      "accuracy:  0.9237333536148071   loss:  0.20864953100681305\n"
     ]
    }
   ],
   "source": [
    "#Подберем batch_size\n",
    "\n",
    "result = list()\n",
    "\n",
    "af = best_af\n",
    "lr = best_lr\n",
    "nl = best_nl\n",
    "nn = best_nn\n",
    "e = best_e\n",
    "bs = 200\n",
    "\n",
    "for bs in batch_size:\n",
    "  fit_for_parameters(result, af, lr, nl, nn, e, bs, repeat=3) "
   ]
  },
  {
   "cell_type": "code",
   "execution_count": 36,
   "metadata": {
    "colab": {
     "base_uri": "https://localhost:8080/",
     "height": 164
    },
    "colab_type": "code",
    "id": "7l3Rn1mwKFIz",
    "outputId": "ac1a7cac-a9a0-4ecf-b801-d31449187a80"
   },
   "outputs": [
    {
     "name": "stdout",
     "output_type": "stream",
     "text": [
      "5 : 0.8630888859430949\n",
      "20 : 0.9096833268801371\n",
      "30 : 0.9225722153981527\n",
      "60 : 0.9329055547714233\n",
      "100 : 0.9361777901649475\n",
      "200 : 0.9336277643839518\n",
      "500 : 0.925166666507721\n",
      "\n",
      "best:  100\n"
     ]
    }
   ],
   "source": [
    "best_bs = best_search(result, 'batch_size')"
   ]
  },
  {
   "cell_type": "code",
   "execution_count": 38,
   "metadata": {
    "colab": {
     "base_uri": "https://localhost:8080/",
     "height": 1000
    },
    "colab_type": "code",
    "id": "26KWMc7IL2xB",
    "outputId": "3da6bab0-1931-49e9-f96f-4de6e4048552"
   },
   "outputs": [
    {
     "name": "stdout",
     "output_type": "stream",
     "text": [
      "activation_function:tanh, num_layer:3, epochs:20, batch_size:100, learning_rates:0.001, num_neuron:100\n",
      "accuracy:  0.9344000220298767   loss:  0.1748475879430771\n",
      "accuracy:  0.9339666962623596   loss:  0.17600655555725098\n",
      "accuracy:  0.9358833432197571   loss:  0.17312197387218475\n",
      "accuracy:  0.9355499744415283   loss:  0.17161522805690765\n",
      "accuracy:  0.9360666871070862   loss:  0.17017005383968353\n"
     ]
    }
   ],
   "source": [
    "result = list()\n",
    "\n",
    "af = best_af\n",
    "lr = best_lr\n",
    "nl = best_nl\n",
    "nn = best_nn\n",
    "e = best_e\n",
    "bs = best_bs\n",
    "\n",
    "fit_for_parameters(result, af, lr, nl, nn, e, bs, repeat=5) "
   ]
  },
  {
   "cell_type": "code",
   "execution_count": 39,
   "metadata": {
    "colab": {
     "base_uri": "https://localhost:8080/",
     "height": 348
    },
    "colab_type": "code",
    "id": "z6wr0naINqPT",
    "outputId": "8f569d0a-ffed-41d6-a72d-e772d4c97c40"
   },
   "outputs": [
    {
     "data": {
      "text/plain": [
       "[{'activation_function': 'tanh',\n",
       "  'learning_rate': 0.001,\n",
       "  'num_layer': 3,\n",
       "  'num_neuron': 100,\n",
       "  'epochs': 20,\n",
       "  'batch_size': 100,\n",
       "  'accuracy': 0.9351733446121215,\n",
       "  'loss': 0.1731522798538208,\n",
       "  'accuracy_list': [0.9344000220298767,\n",
       "   0.9339666962623596,\n",
       "   0.9358833432197571,\n",
       "   0.9355499744415283,\n",
       "   0.9360666871070862],\n",
       "  'loss_list': [0.1748475879430771,\n",
       "   0.17600655555725098,\n",
       "   0.17312197387218475,\n",
       "   0.17161522805690765,\n",
       "   0.17017005383968353]}]"
      ]
     },
     "execution_count": 39,
     "metadata": {},
     "output_type": "execute_result"
    }
   ],
   "source": [
    "result"
   ]
  },
  {
   "cell_type": "code",
   "execution_count": 40,
   "metadata": {
    "colab": {},
    "colab_type": "code",
    "id": "FUOjjPMaObil"
   },
   "outputs": [],
   "source": [
    "#Самы лучший результат accuracy:0.934 loss:0.174. Вообще по идее увеличивая batch_size должна расти точность. Скорее всего на batch_size больше 100 не хватает эпох для лучшего обучения."
   ]
  },
  {
   "cell_type": "code",
   "execution_count": 43,
   "metadata": {},
   "outputs": [
    {
     "name": "stdout",
     "output_type": "stream",
     "text": [
      "313/313 [==============================] - 0s 840us/step - loss: 0.4144 - accuracy: 0.8527\n"
     ]
    },
    {
     "data": {
      "text/plain": [
       "[0.41444578766822815, 0.8526999950408936]"
      ]
     },
     "execution_count": 43,
     "metadata": {},
     "output_type": "execute_result"
    }
   ],
   "source": [
    "# Evaluate the model.\n",
    "model.evaluate(\n",
    "test_images,\n",
    "to_categorical(test_labels)\n",
    ")"
   ]
  },
  {
   "cell_type": "code",
   "execution_count": null,
   "metadata": {},
   "outputs": [],
   "source": []
  }
 ],
 "metadata": {
  "colab": {
   "collapsed_sections": [],
   "name": "HW.ipynb",
   "provenance": []
  },
  "kernelspec": {
   "display_name": "Python 3",
   "language": "python",
   "name": "python3"
  },
  "language_info": {
   "codemirror_mode": {
    "name": "ipython",
    "version": 3
   },
   "file_extension": ".py",
   "mimetype": "text/x-python",
   "name": "python",
   "nbconvert_exporter": "python",
   "pygments_lexer": "ipython3",
   "version": "3.8.3"
  }
 },
 "nbformat": 4,
 "nbformat_minor": 1
}
