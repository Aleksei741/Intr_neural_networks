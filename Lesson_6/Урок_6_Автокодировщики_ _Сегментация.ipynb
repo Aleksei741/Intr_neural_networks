{
 "cells": [
  {
   "cell_type": "code",
   "execution_count": 1,
   "metadata": {
    "colab": {},
    "colab_type": "code",
    "id": "0hyWYiPqLdez"
   },
   "outputs": [],
   "source": [
    "from tensorflow.keras.models import Model\n",
    "from tensorflow.keras.datasets import mnist, fashion_mnist, cifar10\n",
    "from tensorflow.keras.layers import Dense, Flatten, Reshape, Input, AveragePooling2D, Conv2DTranspose, concatenate, Activation, MaxPooling2D, Conv2D, BatchNormalization,RepeatVector, LSTM\n",
    "from tensorflow.keras import backend as K\n",
    "from tensorflow.keras.optimizers import Adam\n",
    "from tensorflow.keras import utils\n",
    "from google.colab import files\n",
    "import matplotlib.pyplot as plt\n",
    "from tensorflow.keras.preprocessing import image\n",
    "import numpy as np\n",
    "import pandas as pd\n",
    "from PIL import Image\n",
    "from sklearn.model_selection import train_test_split\n",
    "from sklearn.preprocessing import StandardScaler"
   ]
  },
  {
   "cell_type": "markdown",
   "metadata": {
    "colab_type": "text",
    "id": "qc7BJnQF8zam"
   },
   "source": [
    "#Автокодировщик"
   ]
  },
  {
   "cell_type": "markdown",
   "metadata": {
    "colab_type": "text",
    "id": "_3kaX9TDuGaD"
   },
   "source": [
    "основная модель MNIST-MNIST"
   ]
  },
  {
   "cell_type": "code",
   "execution_count": 1,
   "metadata": {
    "colab": {},
    "colab_type": "code",
    "id": "5r6MtVVgxLhx"
   },
   "outputs": [],
   "source": []
  },
  {
   "cell_type": "code",
   "execution_count": 2,
   "metadata": {
    "colab": {},
    "colab_type": "code",
    "id": "NZAiEuYx899D"
   },
   "outputs": [],
   "source": [
    "def base_model_Autoencoder(level = 2, input_size=(28,28,1), kernel_list=[32,64]):\n",
    "\n",
    "  img_input = Input(input_size)\n",
    "\n",
    "  x = Conv2D(kernel_list[0], (3, 3), padding='same', activation='relu')(img_input)\n",
    "  x = BatchNormalization()(x)\n",
    "  x = Conv2D(kernel_list[0], (3, 3), padding='same', activation='relu')(x)\n",
    "  x = BatchNormalization()(x)\n",
    "  x = MaxPooling2D()(x)\n",
    "\n",
    "  for i in range(level-1):\n",
    "    x = Conv2D(64, (3, 3), padding='same', activation='relu')(x)\n",
    "    x = BatchNormalization()(x)\n",
    "    x = Conv2D(64, (3, 3), padding='same', activation='relu')(x)\n",
    "    x = BatchNormalization()(x)\n",
    "    x = MaxPooling2D()(x)\n",
    "  x1 = x\n",
    "  print(x1.shape)\n",
    "\n",
    "  for i in range(level-1) :\n",
    "    k = -(level-1)+i  \n",
    "\n",
    "    x = Conv2DTranspose(64, (2, 2), strides=(2, 2), padding='same', activation='relu')(x)\n",
    "    x = BatchNormalization()(x)\n",
    "     \n",
    "    x = Conv2D(kernel_list[k], (3, 3), padding='same', activation='relu')(x)\n",
    "    x = BatchNormalization()(x)\n",
    "    x = Conv2D(64, (3, 3), padding='same', activation='relu')(x)\n",
    "    x = BatchNormalization()(x)\n",
    "\n",
    "  x = Conv2DTranspose(kernel_list[0], (2, 2), strides=(2, 2), padding='same', activation='relu')(x)\n",
    "  x = BatchNormalization()(x)\n",
    "  x = Conv2D(kernel_list[0], (3, 3), padding='same', activation='relu')(x)\n",
    "  x = BatchNormalization()(x)\n",
    "  x = Conv2D(kernel_list[0], (3, 3), padding='same', activation='relu')(x)\n",
    "  x = BatchNormalization()(x)\n",
    "\n",
    "  x = Conv2D(1, (3, 3), activation='sigmoid', padding='same')(x)\n",
    "\n",
    "  model = Model(img_input, x)\n",
    "   \n",
    "  modelviz0=Model(img_input, x1)\n",
    "  model.compile(optimizer=Adam(),\n",
    "                  loss='mean_squared_error',\n",
    "                  metrics=['accuracy'])\n",
    "\n",
    "  return model, modelviz0"
   ]
  },
  {
   "cell_type": "markdown",
   "metadata": {
    "colab_type": "text",
    "id": "qz2RhdL6ufkj"
   },
   "source": [
    "Читаем MNIST"
   ]
  },
  {
   "cell_type": "code",
   "execution_count": 3,
   "metadata": {
    "colab": {
     "base_uri": "https://localhost:8080/",
     "height": 54
    },
    "colab_type": "code",
    "id": "2yK3P1eaCg4o",
    "outputId": "0ea1c058-1851-4352-e7f2-64c025d7690a"
   },
   "outputs": [
    {
     "name": "stdout",
     "output_type": "stream",
     "text": [
      "Downloading data from https://storage.googleapis.com/tensorflow/tf-keras-datasets/mnist.npz\n",
      "11493376/11490434 [==============================] - 1s 0us/step\n"
     ]
    }
   ],
   "source": [
    "(xTrainMnist, yTrainMnist), (xTestMnist, yTestMnist) = mnist.load_data()\n",
    "\n",
    "noice =1\n",
    "\n",
    "xTrainMnist = xTrainMnist.astype('float32')/255\n",
    "\n",
    "xTrainMnist = xTrainMnist.reshape(xTrainMnist.shape[0], 28, 28, 1)\n",
    "\n",
    "yTrainMnist_pix = xTrainMnist.copy()\n",
    "xTrainMnist += np.random.randn(xTrainMnist.shape[0],xTrainMnist.shape[1],xTrainMnist.shape[2],xTrainMnist.shape[3]) * noice"
   ]
  },
  {
   "cell_type": "code",
   "execution_count": 4,
   "metadata": {
    "colab": {
     "base_uri": "https://localhost:8080/",
     "height": 513
    },
    "colab_type": "code",
    "id": "8F7capzy31GM",
    "outputId": "fb087ba5-94de-488c-d7cd-ba696d272c1e"
   },
   "outputs": [
    {
     "data": {
      "image/png": "[encoded data removed]",
      "text/plain": [
       "<Figure size 432x288 with 1 Axes>"
      ]
     },
     "metadata": {
      "needs_background": "light",
      "tags": []
     },
     "output_type": "display_data"
    },
    {
     "data": {
      "image/png": "[encoded data removed]",
      "text/plain": [
       "<Figure size 432x288 with 1 Axes>"
      ]
     },
     "metadata": {
      "needs_background": "light",
      "tags": []
     },
     "output_type": "display_data"
    }
   ],
   "source": [
    "plt.imshow(xTrainMnist[0,:,:,0])\n",
    "plt.show()\n",
    "plt.imshow(yTrainMnist_pix[0,:,:,0])\n",
    "plt.show()"
   ]
  },
  {
   "cell_type": "markdown",
   "metadata": {
    "colab_type": "text",
    "id": "t5Kg01gGuWBb"
   },
   "source": [
    "Собираем модель\n"
   ]
  },
  {
   "cell_type": "code",
   "execution_count": 4,
   "metadata": {
    "colab": {},
    "colab_type": "code",
    "id": "HXfDjxzm4a69"
   },
   "outputs": [],
   "source": []
  },
  {
   "cell_type": "code",
   "execution_count": 5,
   "metadata": {
    "colab": {
     "base_uri": "https://localhost:8080/",
     "height": 35
    },
    "colab_type": "code",
    "id": "Rb-XGLpo1XJt",
    "outputId": "7c141b8c-c231-4d01-94fe-4b915fa19856"
   },
   "outputs": [
    {
     "name": "stdout",
     "output_type": "stream",
     "text": [
      "(None, 7, 7, 64)\n"
     ]
    }
   ],
   "source": [
    "modelAutoMnist, m0 = base_model_Autoencoder(level = 2, input_size=(28,28,1), kernel_list=[32,64])"
   ]
  },
  {
   "cell_type": "code",
   "execution_count": 6,
   "metadata": {
    "colab": {
     "base_uri": "https://localhost:8080/",
     "height": 381
    },
    "colab_type": "code",
    "id": "ixY4nVDUCyOU",
    "outputId": "85424fcb-5e88-47b7-c5ae-eba286937281"
   },
   "outputs": [
    {
     "name": "stdout",
     "output_type": "stream",
     "text": [
      "Epoch 1/10\n",
      "80/80 [==============================] - 2s 25ms/step - loss: 0.0732 - accuracy: 0.7679 - val_loss: 0.0997 - val_accuracy: 0.8074\n",
      "Epoch 2/10\n",
      "80/80 [==============================] - 2s 20ms/step - loss: 0.0338 - accuracy: 0.8041 - val_loss: 0.1008 - val_accuracy: 0.8074\n",
      "Epoch 3/10\n",
      "80/80 [==============================] - 2s 20ms/step - loss: 0.0303 - accuracy: 0.8051 - val_loss: 0.0920 - val_accuracy: 0.8077\n",
      "Epoch 4/10\n",
      "80/80 [==============================] - 2s 20ms/step - loss: 0.0285 - accuracy: 0.8057 - val_loss: 0.0699 - val_accuracy: 0.8086\n",
      "Epoch 5/10\n",
      "80/80 [==============================] - 2s 20ms/step - loss: 0.0275 - accuracy: 0.8060 - val_loss: 0.0393 - val_accuracy: 0.8084\n",
      "Epoch 6/10\n",
      "80/80 [==============================] - 2s 20ms/step - loss: 0.0268 - accuracy: 0.8063 - val_loss: 0.0326 - val_accuracy: 0.8081\n",
      "Epoch 7/10\n",
      "80/80 [==============================] - 2s 20ms/step - loss: 0.0259 - accuracy: 0.8066 - val_loss: 0.0303 - val_accuracy: 0.8077\n",
      "Epoch 8/10\n",
      "80/80 [==============================] - 2s 20ms/step - loss: 0.0254 - accuracy: 0.8070 - val_loss: 0.0291 - val_accuracy: 0.8017\n",
      "Epoch 9/10\n",
      "80/80 [==============================] - 2s 20ms/step - loss: 0.0247 - accuracy: 0.8072 - val_loss: 0.0287 - val_accuracy: 0.8048\n",
      "Epoch 10/10\n",
      "80/80 [==============================] - 2s 20ms/step - loss: 0.0240 - accuracy: 0.8076 - val_loss: 0.0291 - val_accuracy: 0.8053\n"
     ]
    }
   ],
   "source": [
    "\n",
    "#modelAutoMnist = denoiseAutoencoder()\n",
    "hist=modelAutoMnist.fit(xTrainMnist[:10000], yTrainMnist_pix[:10000], epochs=10, batch_size=100, validation_split=0.2)"
   ]
  },
  {
   "cell_type": "code",
   "execution_count": 7,
   "metadata": {
    "colab": {
     "base_uri": "https://localhost:8080/",
     "height": 266
    },
    "colab_type": "code",
    "id": "6imJd1RM7q_v",
    "outputId": "f31d1f6c-f44f-4840-d6c5-07029372d7ee"
   },
   "outputs": [
    {
     "data": {
      "image/png": "[encoded data removed]",
      "text/plain": [
       "<Figure size 432x288 with 1 Axes>"
      ]
     },
     "metadata": {
      "needs_background": "light",
      "tags": []
     },
     "output_type": "display_data"
    }
   ],
   "source": [
    "plt.plot(hist.history['val_accuracy'],'r',label='val_acc')\n",
    "plt.plot(hist.history['accuracy'],'g',label='train_acc')\n",
    "plt.legend()\n",
    "plt.show()"
   ]
  },
  {
   "cell_type": "code",
   "execution_count": 8,
   "metadata": {
    "colab": {
     "base_uri": "https://localhost:8080/",
     "height": 1000
    },
    "colab_type": "code",
    "id": "yGWBX0eQwEmC",
    "outputId": "c66c7188-eb20-498d-98fa-228e507d100a"
   },
   "outputs": [
    {
     "name": "stdout",
     "output_type": "stream",
     "text": [
      "Model: \"model\"\n",
      "_________________________________________________________________\n",
      "Layer (type)                 Output Shape              Param #   \n",
      "=================================================================\n",
      "input_1 (InputLayer)         [(None, 28, 28, 1)]       0         \n",
      "_________________________________________________________________\n",
      "conv2d (Conv2D)              (None, 28, 28, 32)        320       \n",
      "_________________________________________________________________\n",
      "batch_normalization (BatchNo (None, 28, 28, 32)        128       \n",
      "_________________________________________________________________\n",
      "conv2d_1 (Conv2D)            (None, 28, 28, 32)        9248      \n",
      "_________________________________________________________________\n",
      "batch_normalization_1 (Batch (None, 28, 28, 32)        128       \n",
      "_________________________________________________________________\n",
      "max_pooling2d (MaxPooling2D) (None, 14, 14, 32)        0         \n",
      "_________________________________________________________________\n",
      "conv2d_2 (Conv2D)            (None, 14, 14, 64)        18496     \n",
      "_________________________________________________________________\n",
      "batch_normalization_2 (Batch (None, 14, 14, 64)        256       \n",
      "_________________________________________________________________\n",
      "conv2d_3 (Conv2D)            (None, 14, 14, 64)        36928     \n",
      "_________________________________________________________________\n",
      "batch_normalization_3 (Batch (None, 14, 14, 64)        256       \n",
      "_________________________________________________________________\n",
      "max_pooling2d_1 (MaxPooling2 (None, 7, 7, 64)          0         \n",
      "_________________________________________________________________\n",
      "conv2d_transpose (Conv2DTran (None, 14, 14, 64)        16448     \n",
      "_________________________________________________________________\n",
      "batch_normalization_4 (Batch (None, 14, 14, 64)        256       \n",
      "_________________________________________________________________\n",
      "conv2d_4 (Conv2D)            (None, 14, 14, 64)        36928     \n",
      "_________________________________________________________________\n",
      "batch_normalization_5 (Batch (None, 14, 14, 64)        256       \n",
      "_________________________________________________________________\n",
      "conv2d_5 (Conv2D)            (None, 14, 14, 64)        36928     \n",
      "_________________________________________________________________\n",
      "batch_normalization_6 (Batch (None, 14, 14, 64)        256       \n",
      "_________________________________________________________________\n",
      "conv2d_transpose_1 (Conv2DTr (None, 28, 28, 32)        8224      \n",
      "_________________________________________________________________\n",
      "batch_normalization_7 (Batch (None, 28, 28, 32)        128       \n",
      "_________________________________________________________________\n",
      "conv2d_6 (Conv2D)            (None, 28, 28, 32)        9248      \n",
      "_________________________________________________________________\n",
      "batch_normalization_8 (Batch (None, 28, 28, 32)        128       \n",
      "_________________________________________________________________\n",
      "conv2d_7 (Conv2D)            (None, 28, 28, 32)        9248      \n",
      "_________________________________________________________________\n",
      "batch_normalization_9 (Batch (None, 28, 28, 32)        128       \n",
      "_________________________________________________________________\n",
      "conv2d_8 (Conv2D)            (None, 28, 28, 1)         289       \n",
      "=================================================================\n",
      "Total params: 184,225\n",
      "Trainable params: 183,265\n",
      "Non-trainable params: 960\n",
      "_________________________________________________________________\n"
     ]
    }
   ],
   "source": [
    "modelAutoMnist.summary()"
   ]
  },
  {
   "cell_type": "code",
   "execution_count": 9,
   "metadata": {
    "colab": {
     "base_uri": "https://localhost:8080/",
     "height": 54
    },
    "colab_type": "code",
    "id": "2s0FDPruw4T-",
    "outputId": "2948a017-7637-456f-e97c-dac245062c2d"
   },
   "outputs": [
    {
     "name": "stdout",
     "output_type": "stream",
     "text": [
      "(5923, 7, 7, 64)\n",
      "(7, 7, 64)\n"
     ]
    }
   ],
   "source": [
    "mask = np.where(yTrainMnist == 0)\n",
    "\n",
    "y_pred=modelAutoMnist.predict(xTrainMnist[mask[0]])\n",
    "\n",
    "ff=m0.predict(xTrainMnist[mask[0]])\n",
    "print(ff.shape)\n",
    "\n",
    "ff = np.mean(ff, axis=0)\n",
    "print(ff.shape)\n",
    "\n"
   ]
  },
  {
   "cell_type": "code",
   "execution_count": 11,
   "metadata": {
    "colab": {
     "base_uri": "https://localhost:8080/",
     "height": 1000
    },
    "colab_type": "code",
    "id": "7zWZA_vyyb8a",
    "outputId": "264b7512-00b9-494f-c033-ab8949389c0b"
   },
   "outputs": [
    {
     "data": {
      "image/png": "[encoded data removed]",
      "text/plain": [
       "<Figure size 432x288 with 1 Axes>"
      ]
     },
     "metadata": {
      "needs_background": "light",
      "tags": []
     },
     "output_type": "display_data"
    },
    {
     "data": {
      "image/png": "[encoded data removed]",
      "text/plain": [
       "<Figure size 432x288 with 1 Axes>"
      ]
     },
     "metadata": {
      "needs_background": "light",
      "tags": []
     },
     "output_type": "display_data"
    },
    {
     "data": {
      "image/png": "[encoded data removed]",
      "text/plain": [
       "<Figure size 432x288 with 1 Axes>"
      ]
     },
     "metadata": {
      "needs_background": "light",
      "tags": []
     },
     "output_type": "display_data"
    },
    {
     "data": {
      "image/png": "[encoded data removed]",
      "text/plain": [
       "<Figure size 432x288 with 3 Axes>"
      ]
     },
     "metadata": {
      "needs_background": "light",
      "tags": []
     },
     "output_type": "display_data"
    }
   ],
   "source": [
    "plt.imshow(xTrainMnist[mask[0]][1,:,:,0])\n",
    "plt.title('Input Image')\n",
    "plt.show()\n",
    "plt.imshow(y_pred[1,:,:,0])\n",
    "plt.title('Predict Image')\n",
    "plt.show()\n",
    "plt.imshow(yTrainMnist_pix[mask[0]][1,:,:,0])\n",
    "plt.title('Target Image')\n",
    "plt.show()\n",
    "\n",
    "g1=ff[:,:,0]\n",
    "plt.subplot(311)\n",
    "plt.title('hiden layer out 0')\n",
    "plt.imshow(g1)\n",
    "g1=ff[:,:,1]\n",
    "plt.subplot(312)\n",
    "plt.title('hiden layer out 1')\n",
    "plt.imshow(g1)\n",
    "g1=ff[:,:,2]\n",
    "plt.subplot(313)\n",
    "plt.title('hiden layer out 2')\n",
    "plt.imshow(g1)\n",
    "plt.show()"
   ]
  },
  {
   "cell_type": "markdown",
   "metadata": {
    "colab_type": "text",
    "id": "NgiJ3v-erSnP"
   },
   "source": [
    "# Визуализация слоев\n",
    "\n",
    "средний объект - идеал??? "
   ]
  },
  {
   "cell_type": "code",
   "execution_count": 13,
   "metadata": {
    "colab": {
     "base_uri": "https://localhost:8080/",
     "height": 317
    },
    "colab_type": "code",
    "id": "C8TJAw-cnSVJ",
    "outputId": "1ad1f5fc-0779-484c-bb8c-d04d19ce1a9b"
   },
   "outputs": [
    {
     "name": "stdout",
     "output_type": "stream",
     "text": [
      "(5923, 28, 28, 32)\n",
      "(28, 28, 32)\n"
     ]
    },
    {
     "data": {
      "image/png": "[encoded data removed]",
      "text/plain": [
       "<Figure size 432x288 with 3 Axes>"
      ]
     },
     "metadata": {
      "needs_background": "light",
      "tags": []
     },
     "output_type": "display_data"
    }
   ],
   "source": [
    "activ_model_layer = Model(inputs=modelAutoMnist.input, outputs = modelAutoMnist.layers[3].output)\n",
    "\n",
    "ff = activ_model_layer.predict(xTrainMnist[mask[0]])\n",
    "\n",
    "\n",
    "print(ff.shape)\n",
    "\n",
    "\n",
    "ff = np.mean(ff, axis=0)\n",
    "print(ff.shape)\n",
    "\n",
    "g1=ff[:,:,0]\n",
    "plt.subplot(311)\n",
    "plt.title('hiden layer out 0')\n",
    "plt.imshow(g1)\n",
    "g1=ff[:,:,2]\n",
    "plt.subplot(312)\n",
    "plt.title('hiden layer out 1')\n",
    "plt.imshow(g1)\n",
    "g1=ff[:,:,5]\n",
    "plt.subplot(313)\n",
    "plt.title('hiden layer out 2')\n",
    "plt.imshow(g1)\n",
    "plt.show()"
   ]
  },
  {
   "cell_type": "code",
   "execution_count": 14,
   "metadata": {
    "colab": {
     "base_uri": "https://localhost:8080/",
     "height": 163
    },
    "colab_type": "code",
    "id": "V8Y9oc7h9JjY",
    "outputId": "24ce53ae-cf40-4783-bd3d-a36e3220f519"
   },
   "outputs": [
    {
     "name": "stdout",
     "output_type": "stream",
     "text": [
      "Downloading data from https://storage.googleapis.com/tensorflow/tf-keras-datasets/train-labels-idx1-ubyte.gz\n",
      "32768/29515 [=================================] - 0s 0us/step\n",
      "Downloading data from https://storage.googleapis.com/tensorflow/tf-keras-datasets/train-images-idx3-ubyte.gz\n",
      "26427392/26421880 [==============================] - 2s 0us/step\n",
      "Downloading data from https://storage.googleapis.com/tensorflow/tf-keras-datasets/t10k-labels-idx1-ubyte.gz\n",
      "8192/5148 [===============================================] - 0s 0us/step\n",
      "Downloading data from https://storage.googleapis.com/tensorflow/tf-keras-datasets/t10k-images-idx3-ubyte.gz\n",
      "4423680/4422102 [==============================] - 0s 0us/step\n"
     ]
    }
   ],
   "source": [
    "(xT_fash, yT_fash), (xTest_f, yTest_f) = fashion_mnist.load_data()\n",
    "\n",
    "noice =0.35\n",
    "\n",
    "xT_fash = xT_fash.astype('float32')/255\n",
    "\n",
    "xT_fash = xT_fash.reshape(xT_fash.shape[0], 28, 28, 1)\n",
    "\n",
    "xT_fash += np.random.randn(xT_fash.shape[0],xT_fash.shape[1],xT_fash.shape[2],xT_fash.shape[3]) * noice\n",
    "\n"
   ]
  },
  {
   "cell_type": "code",
   "execution_count": 15,
   "metadata": {
    "colab": {
     "base_uri": "https://localhost:8080/",
     "height": 545
    },
    "colab_type": "code",
    "id": "Pjq9RNLe9pkZ",
    "outputId": "7d5325c5-cdea-4605-dd57-7c328fa7b2f7"
   },
   "outputs": [
    {
     "data": {
      "image/png": "[encoded data removed]",
      "text/plain": [
       "<Figure size 432x288 with 1 Axes>"
      ]
     },
     "metadata": {
      "needs_background": "light",
      "tags": []
     },
     "output_type": "display_data"
    },
    {
     "data": {
      "image/png": "[encoded data removed]",
      "text/plain": [
       "<Figure size 432x288 with 1 Axes>"
      ]
     },
     "metadata": {
      "needs_background": "light",
      "tags": []
     },
     "output_type": "display_data"
    }
   ],
   "source": [
    "y_pred=modelAutoMnist.predict(xT_fash[:20])\n",
    "N=2\n",
    "plt.imshow(xT_fash[N,:,:,0])\n",
    "plt.title('Input Image')\n",
    "plt.show()\n",
    "plt.imshow(y_pred[N,:,:,0])\n",
    "plt.title('Predict Image')\n",
    "plt.show()\n"
   ]
  },
  {
   "cell_type": "code",
   "execution_count": null,
   "metadata": {
    "colab": {},
    "colab_type": "code",
    "id": "JavrHb_P-Hsk"
   },
   "outputs": [],
   "source": []
  }
 ],
 "metadata": {
  "accelerator": "GPU",
  "colab": {
   "collapsed_sections": [],
   "name": "Урок_6_Автокодировщики_+_Сегментация.ipynb",
   "provenance": []
  },
  "kernelspec": {
   "display_name": "Python 3",
   "language": "python",
   "name": "python3"
  },
  "language_info": {
   "codemirror_mode": {
    "name": "ipython",
    "version": 3
   },
   "file_extension": ".py",
   "mimetype": "text/x-python",
   "name": "python",
   "nbconvert_exporter": "python",
   "pygments_lexer": "ipython3",
   "version": "3.8.3"
  }
 },
 "nbformat": 4,
 "nbformat_minor": 1
}
