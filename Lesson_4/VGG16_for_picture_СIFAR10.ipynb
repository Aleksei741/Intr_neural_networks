{
 "cells": [
  {
   "cell_type": "markdown",
   "metadata": {
    "colab_type": "text",
    "id": "Ah7dy1kFL2H9"
   },
   "source": [
    "# Распознавание объектов на изображениях с претренированной сетью \n",
    "\n",
    "\n"
   ]
  },
  {
   "cell_type": "markdown",
   "metadata": {
    "colab_type": "text",
    "id": "y0pyYuxbg0wK"
   },
   "source": [
    "Грузим библиотеки (точно нужны слои,  optimizer , cifar10)"
   ]
  },
  {
   "cell_type": "code",
   "execution_count": 1,
   "metadata": {
    "colab": {},
    "colab_type": "code",
    "id": "ivmw9St3nFnx"
   },
   "outputs": [],
   "source": [
    "from tensorflow.keras.datasets import cifar10\n",
    "from tensorflow.keras.datasets import mnist\n",
    "from tensorflow.keras.preprocessing import image\n",
    "from tensorflow.keras.models import Model\n",
    "from tensorflow.keras.layers import  BatchNormalization\n",
    "from tensorflow.keras import applications\n",
    "from tensorflow.keras.preprocessing.image import ImageDataGenerator\n",
    "from tensorflow.keras import optimizers\n",
    "from tensorflow.keras.models import Sequential\n",
    "from tensorflow.keras.layers import Dropout, Flatten, Dense\n",
    "\n",
    "\n",
    "from tensorflow.keras.applications.vgg16 import preprocess_input\n",
    "\n",
    "from tensorflow.keras.preprocessing.image import ImageDataGenerator\n",
    "from tensorflow.keras.preprocessing.image import img_to_array, load_img\n",
    "from tensorflow.keras import layers, models, optimizers\n",
    "from tensorflow.keras import backend as K\n",
    "from sklearn.model_selection import train_test_split\n",
    "\n",
    "#from google.colab import files\n",
    "import numpy as np\n",
    "import matplotlib.pyplot as plt\n",
    "from PIL import Image\n",
    "%matplotlib inline \n",
    "\n",
    "from tensorflow.keras import utils\n",
    "# Количество классов изображений\n",
    "nb_classes = 10\n",
    "# Названия классов из набора данных CIFAR-10\n",
    "classes=['самолет', 'автомобиль', 'птица', 'кот', 'олень', 'собака', 'лягушка', 'лошадь', 'корабль', 'грузовик']\n",
    "(x_train, y_train), (x_test, y_test) = cifar10.load_data()\n",
    "#(x_train, y_train), (x_test, y_test) = mnist.load_data()\n",
    "y_train10 = utils.to_categorical(y_train, nb_classes)\n",
    "\n",
    "y_test10 = utils.to_categorical(y_test, nb_classes)\n",
    "\n",
    "#x_train=np.broadcast_to(x_train[..., None],(60000,28,28,3))\n",
    "#x_test=np.broadcast_to(x_test[..., None],(10000,28,28,3))"
   ]
  },
  {
   "cell_type": "markdown",
   "metadata": {
    "colab_type": "text",
    "id": "Odp_ZArlhTz9"
   },
   "source": [
    "задаем размер входа"
   ]
  },
  {
   "cell_type": "code",
   "execution_count": 2,
   "metadata": {
    "colab": {},
    "colab_type": "code",
    "id": "OL9nxCJNy9lm"
   },
   "outputs": [
    {
     "name": "stdout",
     "output_type": "stream",
     "text": [
      "(50000, 32, 32, 3)\n"
     ]
    }
   ],
   "source": [
    "# Размер изображений  CIFAR10\n",
    "img_width, img_height, chanel_n = 32, 32, 3\n",
    "#img_width, img_height, chanel_n = 28, 28, 3\n",
    "\n",
    "print(x_train.shape)\n",
    "#пакет для генератора\n",
    "batch_size = 128\n"
   ]
  },
  {
   "cell_type": "markdown",
   "metadata": {
    "colab_type": "text",
    "id": "xt3mwnU7GVP8"
   },
   "source": [
    "#Загрузка VGG16"
   ]
  },
  {
   "cell_type": "code",
   "execution_count": 3,
   "metadata": {
    "colab": {},
    "colab_type": "code",
    "id": "GSqDL3bZzGAx"
   },
   "outputs": [
    {
     "name": "stdout",
     "output_type": "stream",
     "text": [
      "Model: \"vgg16\"\n",
      "_________________________________________________________________\n",
      "Layer (type)                 Output Shape              Param #   \n",
      "=================================================================\n",
      "input_1 (InputLayer)         [(None, 32, 32, 3)]       0         \n",
      "_________________________________________________________________\n",
      "block1_conv1 (Conv2D)        (None, 32, 32, 64)        1792      \n",
      "_________________________________________________________________\n",
      "block1_conv2 (Conv2D)        (None, 32, 32, 64)        36928     \n",
      "_________________________________________________________________\n",
      "block1_pool (MaxPooling2D)   (None, 16, 16, 64)        0         \n",
      "_________________________________________________________________\n",
      "block2_conv1 (Conv2D)        (None, 16, 16, 128)       73856     \n",
      "_________________________________________________________________\n",
      "block2_conv2 (Conv2D)        (None, 16, 16, 128)       147584    \n",
      "_________________________________________________________________\n",
      "block2_pool (MaxPooling2D)   (None, 8, 8, 128)         0         \n",
      "_________________________________________________________________\n",
      "block3_conv1 (Conv2D)        (None, 8, 8, 256)         295168    \n",
      "_________________________________________________________________\n",
      "block3_conv2 (Conv2D)        (None, 8, 8, 256)         590080    \n",
      "_________________________________________________________________\n",
      "block3_conv3 (Conv2D)        (None, 8, 8, 256)         590080    \n",
      "_________________________________________________________________\n",
      "block3_pool (MaxPooling2D)   (None, 4, 4, 256)         0         \n",
      "_________________________________________________________________\n",
      "block4_conv1 (Conv2D)        (None, 4, 4, 512)         1180160   \n",
      "_________________________________________________________________\n",
      "block4_conv2 (Conv2D)        (None, 4, 4, 512)         2359808   \n",
      "_________________________________________________________________\n",
      "block4_conv3 (Conv2D)        (None, 4, 4, 512)         2359808   \n",
      "_________________________________________________________________\n",
      "block4_pool (MaxPooling2D)   (None, 2, 2, 512)         0         \n",
      "_________________________________________________________________\n",
      "block5_conv1 (Conv2D)        (None, 2, 2, 512)         2359808   \n",
      "_________________________________________________________________\n",
      "block5_conv2 (Conv2D)        (None, 2, 2, 512)         2359808   \n",
      "_________________________________________________________________\n",
      "block5_conv3 (Conv2D)        (None, 2, 2, 512)         2359808   \n",
      "_________________________________________________________________\n",
      "block5_pool (MaxPooling2D)   (None, 1, 1, 512)         0         \n",
      "=================================================================\n",
      "Total params: 14,714,688\n",
      "Trainable params: 14,714,688\n",
      "Non-trainable params: 0\n",
      "_________________________________________________________________\n"
     ]
    }
   ],
   "source": [
    "# Загружаем сеть VGG16 без части, которая отвечает за классификацию\n",
    "base_model = applications.VGG16(weights ='imagenet', include_top=False, input_shape=(img_width, img_height, chanel_n ))\n",
    "\n",
    "base_model.summary()\n"
   ]
  },
  {
   "cell_type": "markdown",
   "metadata": {
    "colab_type": "text",
    "id": "Aj9SH91ehdUm"
   },
   "source": [
    "Делаем генератор преобразования объекта - только масштаб значений"
   ]
  },
  {
   "cell_type": "code",
   "execution_count": 4,
   "metadata": {
    "colab": {},
    "colab_type": "code",
    "id": "EN7nYHUH0DLa"
   },
   "outputs": [],
   "source": [
    "# Создаем генератор данных для обучения\n",
    "datagen = ImageDataGenerator(rescale=1. / 255)\n",
    "\n",
    "\n",
    "\n",
    "train_generator = datagen.flow(\n",
    "    x_train,y_train10,\n",
    "    batch_size=batch_size,\n",
    "    )\n",
    "# Создаем генератор данных для валидации\n",
    "val_generator =  datagen.flow(\n",
    "    x_test,y_test10,\n",
    "    batch_size=batch_size,\n",
    "    )\n",
    "\n",
    "test_generator = datagen.flow(\n",
    "    x_test,y_test10,\n",
    "    batch_size=batch_size,\n",
    "    )"
   ]
  },
  {
   "cell_type": "markdown",
   "metadata": {
    "colab_type": "text",
    "id": "RwX8VwHKGgfx"
   },
   "source": [
    "#Свой классификатор поверх VGG16 "
   ]
  },
  {
   "cell_type": "code",
   "execution_count": 5,
   "metadata": {
    "colab": {},
    "colab_type": "code",
    "id": "GDcjFVOaeMGf"
   },
   "outputs": [
    {
     "name": "stdout",
     "output_type": "stream",
     "text": [
      "Model: \"sequential\"\n",
      "_________________________________________________________________\n",
      "Layer (type)                 Output Shape              Param #   \n",
      "=================================================================\n",
      "vgg16 (Functional)           (None, 1, 1, 512)         14714688  \n",
      "_________________________________________________________________\n",
      "batch_normalization (BatchNo (None, 1, 1, 512)         2048      \n",
      "_________________________________________________________________\n",
      "flatten (Flatten)            (None, 512)               0         \n",
      "_________________________________________________________________\n",
      "dense (Dense)                (None, 100)               51300     \n",
      "_________________________________________________________________\n",
      "dense_1 (Dense)              (None, 10)                1010      \n",
      "=================================================================\n",
      "Total params: 14,769,046\n",
      "Trainable params: 53,334\n",
      "Non-trainable params: 14,715,712\n",
      "_________________________________________________________________\n",
      "(None, 100)\n",
      "(None, 10)\n"
     ]
    }
   ],
   "source": [
    "from tensorflow.keras.layers import BatchNormalization\n",
    "\n",
    "# Замораживаем сеть VGG16\n",
    "base_model.trainable = False\n",
    "\n",
    "models = Sequential()\n",
    "# Добавляем в модель сеть VGG16 вместо слоя\n",
    "models.add(base_model) # только свертка\n",
    "models.add(BatchNormalization())\n",
    "models.add(Flatten()) # векторим вход\n",
    "models.add(Dense(100,activation='relu'))\n",
    "models.add(Dense(10,activation='softmax'))\n",
    "\n",
    "\n",
    "models.summary()\n",
    "\n",
    "\n",
    "print(models.layers[-1].input_shape)\n",
    "\n",
    "print(models.layers[-1].output_shape)\n"
   ]
  },
  {
   "cell_type": "markdown",
   "metadata": {
    "colab_type": "text",
    "id": "0SAbJ_9IjDZv"
   },
   "source": [
    "Пропускаем выборку через VGG16 свертки"
   ]
  },
  {
   "cell_type": "code",
   "execution_count": null,
   "metadata": {
    "colab": {},
    "colab_type": "code",
    "id": "8sxGHfc3DyJv"
   },
   "outputs": [],
   "source": [
    "\n",
    "predict1=models.predict(x_train[:20])\n",
    "print(predict1.shape)"
   ]
  },
  {
   "cell_type": "markdown",
   "metadata": {
    "colab_type": "text",
    "id": "yxV4zueVjQrr"
   },
   "source": [
    "Посмотрим, что вышло"
   ]
  },
  {
   "cell_type": "code",
   "execution_count": null,
   "metadata": {
    "colab": {},
    "colab_type": "code",
    "id": "_YscUViGQiXc"
   },
   "outputs": [],
   "source": [
    "print(predict1.shape)\n",
    "\n",
    "plt.plot(predict1.mean(axis=0))\n",
    "plt.xlabel('feature number')\n",
    "plt.ylabel('mean feature value')\n",
    "plt.title('predict по VGG16')\n",
    "plt.show()\n",
    "\n",
    "plt.subplot(3,1,1)\n",
    "plt.plot(predict1[10,:])\n",
    "plt.plot(y_train10[10,:],'r')\n",
    "plt.xlabel('feature number')\n",
    "plt.ylabel('feature value')\n",
    "plt.title('sample 10 по VGG16')\n",
    "plt.show()\n",
    "plt.subplot(3,1,2)\n",
    "plt.plot(predict1[1,:])\n",
    "plt.plot(y_train10[1,:],'r')\n",
    "plt.xlabel('feature number')\n",
    "plt.ylabel('feature value')\n",
    "plt.title('sample 1 по VGG16')\n",
    "plt.show()\n",
    "plt.subplot(3,1,3)\n",
    "plt.plot(predict1[5,:])\n",
    "plt.plot(y_train10[5,:],'r')\n",
    "plt.xlabel('feature number')\n",
    "plt.ylabel('feature value')\n",
    "plt.title('sample 5 по VGG16')\n",
    "\n",
    "plt.show()\n",
    "ik5=np.argmax(predict1[10,:])\n",
    "ik1=np.argmax(predict1[1,:])\n",
    "ik0=np.argmax(predict1[5,:])\n",
    "print(ik5,ik1,ik0)\n",
    "print(y_train[[10,1,5]])\n"
   ]
  },
  {
   "cell_type": "markdown",
   "metadata": {
    "colab_type": "text",
    "id": "TXk9sZwjjVn4"
   },
   "source": [
    "Видны какие-то \"левые\" реакции будем исправлять выходной массив\n"
   ]
  },
  {
   "cell_type": "code",
   "execution_count": null,
   "metadata": {
    "colab": {},
    "colab_type": "code",
    "id": "Oq7y-ngeNYQe"
   },
   "outputs": [],
   "source": [
    "# компилияция модели\n",
    "models.compile(loss='categorical_crossentropy', optimizer='SGD', metrics=[\"accuracy\"])"
   ]
  },
  {
   "cell_type": "code",
   "execution_count": null,
   "metadata": {
    "colab": {},
    "colab_type": "code",
    "id": "to6ouJLaNrqc"
   },
   "outputs": [],
   "source": [
    "hist = models.fit(x=x_train,y=y_train10, epochs=10, batch_size=128, validation_data=(x_test, y_test10), verbose=1)\n",
    "\n",
    "test_score = models.evaluate(x_test, y_test10)\n",
    "print(\"Test loss {:.4f}, accuracy {:.2f}%\".format(test_score[0], test_score[1] * 100))"
   ]
  },
  {
   "cell_type": "code",
   "execution_count": null,
   "metadata": {
    "colab": {},
    "colab_type": "code",
    "id": "kSY2PvY8QxzV"
   },
   "outputs": [],
   "source": [
    "plt.plot(hist.history['val_accuracy'],'r',label='val_accuracy')\n",
    "plt.plot(hist.history['accuracy'],'g',label='train_accuracy')\n",
    "plt.legend()\n",
    "plt.show()"
   ]
  },
  {
   "cell_type": "code",
   "execution_count": null,
   "metadata": {
    "colab": {},
    "colab_type": "code",
    "id": "5goLguw0RoYA"
   },
   "outputs": [],
   "source": [
    "predict2=predict1.copy() \n",
    "\n",
    "predict1=models.predict(x_train[:20])\n",
    "print(predict1.shape)"
   ]
  },
  {
   "cell_type": "code",
   "execution_count": null,
   "metadata": {
    "colab": {},
    "colab_type": "code",
    "id": "TQka8iVPR0Oi"
   },
   "outputs": [],
   "source": [
    "print(predict1.shape)\n",
    "\n",
    "plt.plot(predict1.mean(axis=0))\n",
    "plt.xlabel('feature number')\n",
    "plt.ylabel('mean feature value')\n",
    "plt.title('predict по VGG16')\n",
    "plt.show()\n",
    "\n",
    "plt.subplot(3,1,1)\n",
    "plt.plot(predict1[10,:])\n",
    "plt.plot(y_train10[10,:],'r')\n",
    "plt.xlabel('feature number')\n",
    "plt.ylabel('feature value')\n",
    "plt.title('sample 10 по VGG16')\n",
    "plt.show()\n",
    "plt.subplot(3,1,2)\n",
    "plt.plot(predict1[1,:])\n",
    "plt.plot(y_train10[1,:],'r')\n",
    "plt.xlabel('feature number')\n",
    "plt.ylabel('feature value')\n",
    "plt.title('sample 1 по VGG16')\n",
    "plt.show()\n",
    "plt.subplot(3,1,3)\n",
    "plt.plot(predict1[5,:])\n",
    "plt.plot(y_train10[5,:],'r')\n",
    "plt.xlabel('feature number')\n",
    "plt.ylabel('feature value')\n",
    "plt.title('sample 5 по VGG16')\n",
    "\n",
    "plt.show()\n",
    "ik5=np.argmax(predict1[10,:])\n",
    "ik1=np.argmax(predict1[1,:])\n",
    "ik0=np.argmax(predict1[5,:])\n",
    "print(ik5,ik1,ik0)\n",
    "print(y_train[[10,1,5]].T)"
   ]
  },
  {
   "cell_type": "markdown",
   "metadata": {
    "colab_type": "text",
    "id": "g6FRJqYsVwq0"
   },
   "source": [
    "Посмотрим , что распознается"
   ]
  },
  {
   "cell_type": "code",
   "execution_count": null,
   "metadata": {
    "colab": {},
    "colab_type": "code",
    "id": "wjfZMLmtSkgh"
   },
   "outputs": [],
   "source": [
    "n=1\n",
    "\n",
    "plt.imshow(x_train[n][:,:,:])\n",
    "plt.title(classes[np.argmax(predict1[n,:])])\n",
    "plt.show()"
   ]
  },
  {
   "cell_type": "code",
   "execution_count": null,
   "metadata": {
    "colab": {},
    "colab_type": "code",
    "id": "B24PXjO7TEww"
   },
   "outputs": [],
   "source": [
    "predict1_test=models.predict(x_test[:20])\n"
   ]
  },
  {
   "cell_type": "markdown",
   "metadata": {
    "colab_type": "text",
    "id": "ulRE-2L7T9U6"
   },
   "source": [
    "Сделаем немного тестов"
   ]
  },
  {
   "cell_type": "code",
   "execution_count": null,
   "metadata": {
    "colab": {},
    "colab_type": "code",
    "id": "zdYSNCyGTjXk"
   },
   "outputs": [],
   "source": [
    "n=5\n",
    "\n",
    "plt.imshow(x_test[n][:,:,:])\n",
    "plt.title(classes[np.argmax(predict1_test[n,:])])\n",
    "plt.show()"
   ]
  },
  {
   "cell_type": "code",
   "execution_count": null,
   "metadata": {
    "colab": {},
    "colab_type": "code",
    "id": "RJ1F3LkkTqBr"
   },
   "outputs": [],
   "source": []
  }
 ],
 "metadata": {
  "accelerator": "GPU",
  "colab": {
   "collapsed_sections": [],
   "name": "VGG16_for_picture_СIFAR10.ipynb",
   "private_outputs": true,
   "provenance": []
  },
  "kernelspec": {
   "display_name": "Python 3",
   "language": "python",
   "name": "python3"
  },
  "language_info": {
   "codemirror_mode": {
    "name": "ipython",
    "version": 3
   },
   "file_extension": ".py",
   "mimetype": "text/x-python",
   "name": "python",
   "nbconvert_exporter": "python",
   "pygments_lexer": "ipython3",
   "version": "3.7.6"
  }
 },
 "nbformat": 4,
 "nbformat_minor": 1
}
